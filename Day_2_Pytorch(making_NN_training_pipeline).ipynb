{
 "cells": [
  {
   "cell_type": "code",
   "execution_count": 1,
   "id": "0c67ea3d-9258-4d4c-a4bf-06f0ce270a3b",
   "metadata": {},
   "outputs": [],
   "source": [
    "import pandas as pd \n",
    "import numpy as np \n",
    "import torch \n",
    "import matplotlib.pyplot as plt \n",
    "import seaborn as sns "
   ]
  },
  {
   "cell_type": "code",
   "execution_count": 2,
   "id": "0db7f2b4-9bb0-4131-b698-e4aa43dee482",
   "metadata": {},
   "outputs": [],
   "source": [
    "df = pd.read_csv(\"prepared_dataset_main_finalized.csv\")"
   ]
  },
  {
   "cell_type": "code",
   "execution_count": 3,
   "id": "1011e0ba-a201-48fd-abdf-aaba371aeb21",
   "metadata": {},
   "outputs": [
    {
     "data": {
      "text/html": [
       "<div>\n",
       "<style scoped>\n",
       "    .dataframe tbody tr th:only-of-type {\n",
       "        vertical-align: middle;\n",
       "    }\n",
       "\n",
       "    .dataframe tbody tr th {\n",
       "        vertical-align: top;\n",
       "    }\n",
       "\n",
       "    .dataframe thead th {\n",
       "        text-align: right;\n",
       "    }\n",
       "</style>\n",
       "<table border=\"1\" class=\"dataframe\">\n",
       "  <thead>\n",
       "    <tr style=\"text-align: right;\">\n",
       "      <th></th>\n",
       "      <th>Age</th>\n",
       "      <th>Sleep Hours</th>\n",
       "      <th>Physical Activity (hrs/week)</th>\n",
       "      <th>Caffeine Intake (mg/day)</th>\n",
       "      <th>Alcohol Consumption (drinks/week)</th>\n",
       "      <th>Stress Level (1-10)</th>\n",
       "      <th>Heart Rate (bpm)</th>\n",
       "      <th>Breathing Rate (breaths/min)</th>\n",
       "      <th>Sweating Level (1-5)</th>\n",
       "      <th>Therapy Sessions (per month)</th>\n",
       "      <th>Diet Quality (1-10)</th>\n",
       "      <th>Anxiety Level (1-10)</th>\n",
       "      <th>Psyco</th>\n",
       "      <th>Gender_Male</th>\n",
       "      <th>Gender_Other</th>\n",
       "      <th>Smoking_Yes</th>\n",
       "      <th>Dizziness_Yes</th>\n",
       "      <th>Medication_Yes</th>\n",
       "      <th>Recent Major Life Event_Yes</th>\n",
       "      <th>Family History of Anxiety_Yes</th>\n",
       "    </tr>\n",
       "  </thead>\n",
       "  <tbody>\n",
       "    <tr>\n",
       "      <th>0</th>\n",
       "      <td>64</td>\n",
       "      <td>6.1</td>\n",
       "      <td>0.6</td>\n",
       "      <td>74</td>\n",
       "      <td>12</td>\n",
       "      <td>8</td>\n",
       "      <td>106</td>\n",
       "      <td>27</td>\n",
       "      <td>2</td>\n",
       "      <td>5</td>\n",
       "      <td>9</td>\n",
       "      <td>4.0</td>\n",
       "      <td>4</td>\n",
       "      <td>1</td>\n",
       "      <td>0</td>\n",
       "      <td>0</td>\n",
       "      <td>0</td>\n",
       "      <td>0</td>\n",
       "      <td>1</td>\n",
       "      <td>1</td>\n",
       "    </tr>\n",
       "    <tr>\n",
       "      <th>1</th>\n",
       "      <td>64</td>\n",
       "      <td>5.5</td>\n",
       "      <td>1.6</td>\n",
       "      <td>246</td>\n",
       "      <td>13</td>\n",
       "      <td>1</td>\n",
       "      <td>84</td>\n",
       "      <td>14</td>\n",
       "      <td>5</td>\n",
       "      <td>0</td>\n",
       "      <td>5</td>\n",
       "      <td>3.0</td>\n",
       "      <td>0</td>\n",
       "      <td>0</td>\n",
       "      <td>1</td>\n",
       "      <td>1</td>\n",
       "      <td>0</td>\n",
       "      <td>1</td>\n",
       "      <td>0</td>\n",
       "      <td>0</td>\n",
       "    </tr>\n",
       "    <tr>\n",
       "      <th>2</th>\n",
       "      <td>64</td>\n",
       "      <td>6.1</td>\n",
       "      <td>5.5</td>\n",
       "      <td>231</td>\n",
       "      <td>19</td>\n",
       "      <td>9</td>\n",
       "      <td>80</td>\n",
       "      <td>29</td>\n",
       "      <td>1</td>\n",
       "      <td>2</td>\n",
       "      <td>4</td>\n",
       "      <td>6.0</td>\n",
       "      <td>2</td>\n",
       "      <td>0</td>\n",
       "      <td>0</td>\n",
       "      <td>0</td>\n",
       "      <td>1</td>\n",
       "      <td>0</td>\n",
       "      <td>0</td>\n",
       "      <td>0</td>\n",
       "    </tr>\n",
       "  </tbody>\n",
       "</table>\n",
       "</div>"
      ],
      "text/plain": [
       "   Age  Sleep Hours  Physical Activity (hrs/week)  Caffeine Intake (mg/day)  \\\n",
       "0   64          6.1                           0.6                        74   \n",
       "1   64          5.5                           1.6                       246   \n",
       "2   64          6.1                           5.5                       231   \n",
       "\n",
       "   Alcohol Consumption (drinks/week)  Stress Level (1-10)  Heart Rate (bpm)  \\\n",
       "0                                 12                    8               106   \n",
       "1                                 13                    1                84   \n",
       "2                                 19                    9                80   \n",
       "\n",
       "   Breathing Rate (breaths/min)  Sweating Level (1-5)  \\\n",
       "0                            27                     2   \n",
       "1                            14                     5   \n",
       "2                            29                     1   \n",
       "\n",
       "   Therapy Sessions (per month)  Diet Quality (1-10)  Anxiety Level (1-10)  \\\n",
       "0                             5                    9                   4.0   \n",
       "1                             0                    5                   3.0   \n",
       "2                             2                    4                   6.0   \n",
       "\n",
       "   Psyco  Gender_Male  Gender_Other  Smoking_Yes  Dizziness_Yes  \\\n",
       "0      4            1             0            0              0   \n",
       "1      0            0             1            1              0   \n",
       "2      2            0             0            0              1   \n",
       "\n",
       "   Medication_Yes  Recent Major Life Event_Yes  Family History of Anxiety_Yes  \n",
       "0               0                            1                              1  \n",
       "1               1                            0                              0  \n",
       "2               0                            0                              0  "
      ]
     },
     "execution_count": 3,
     "metadata": {},
     "output_type": "execute_result"
    }
   ],
   "source": [
    "df.head(3)"
   ]
  },
  {
   "cell_type": "code",
   "execution_count": 4,
   "id": "e680744d-1d79-4fa4-bbdc-4beed2c8008a",
   "metadata": {},
   "outputs": [],
   "source": [
    "df = df.drop(columns='Psyco')"
   ]
  },
  {
   "cell_type": "code",
   "execution_count": 5,
   "id": "52070a46-571a-4e36-a910-125e199547f3",
   "metadata": {},
   "outputs": [
    {
     "data": {
      "text/html": [
       "<div>\n",
       "<style scoped>\n",
       "    .dataframe tbody tr th:only-of-type {\n",
       "        vertical-align: middle;\n",
       "    }\n",
       "\n",
       "    .dataframe tbody tr th {\n",
       "        vertical-align: top;\n",
       "    }\n",
       "\n",
       "    .dataframe thead th {\n",
       "        text-align: right;\n",
       "    }\n",
       "</style>\n",
       "<table border=\"1\" class=\"dataframe\">\n",
       "  <thead>\n",
       "    <tr style=\"text-align: right;\">\n",
       "      <th></th>\n",
       "      <th>Age</th>\n",
       "      <th>Sleep Hours</th>\n",
       "      <th>Physical Activity (hrs/week)</th>\n",
       "      <th>Caffeine Intake (mg/day)</th>\n",
       "      <th>Alcohol Consumption (drinks/week)</th>\n",
       "      <th>Stress Level (1-10)</th>\n",
       "      <th>Heart Rate (bpm)</th>\n",
       "      <th>Breathing Rate (breaths/min)</th>\n",
       "      <th>Sweating Level (1-5)</th>\n",
       "      <th>Therapy Sessions (per month)</th>\n",
       "      <th>Diet Quality (1-10)</th>\n",
       "      <th>Anxiety Level (1-10)</th>\n",
       "      <th>Gender_Male</th>\n",
       "      <th>Gender_Other</th>\n",
       "      <th>Smoking_Yes</th>\n",
       "      <th>Dizziness_Yes</th>\n",
       "      <th>Medication_Yes</th>\n",
       "      <th>Recent Major Life Event_Yes</th>\n",
       "      <th>Family History of Anxiety_Yes</th>\n",
       "    </tr>\n",
       "  </thead>\n",
       "  <tbody>\n",
       "    <tr>\n",
       "      <th>0</th>\n",
       "      <td>64</td>\n",
       "      <td>6.1</td>\n",
       "      <td>0.6</td>\n",
       "      <td>74</td>\n",
       "      <td>12</td>\n",
       "      <td>8</td>\n",
       "      <td>106</td>\n",
       "      <td>27</td>\n",
       "      <td>2</td>\n",
       "      <td>5</td>\n",
       "      <td>9</td>\n",
       "      <td>4.0</td>\n",
       "      <td>1</td>\n",
       "      <td>0</td>\n",
       "      <td>0</td>\n",
       "      <td>0</td>\n",
       "      <td>0</td>\n",
       "      <td>1</td>\n",
       "      <td>1</td>\n",
       "    </tr>\n",
       "  </tbody>\n",
       "</table>\n",
       "</div>"
      ],
      "text/plain": [
       "   Age  Sleep Hours  Physical Activity (hrs/week)  Caffeine Intake (mg/day)  \\\n",
       "0   64          6.1                           0.6                        74   \n",
       "\n",
       "   Alcohol Consumption (drinks/week)  Stress Level (1-10)  Heart Rate (bpm)  \\\n",
       "0                                 12                    8               106   \n",
       "\n",
       "   Breathing Rate (breaths/min)  Sweating Level (1-5)  \\\n",
       "0                            27                     2   \n",
       "\n",
       "   Therapy Sessions (per month)  Diet Quality (1-10)  Anxiety Level (1-10)  \\\n",
       "0                             5                    9                   4.0   \n",
       "\n",
       "   Gender_Male  Gender_Other  Smoking_Yes  Dizziness_Yes  Medication_Yes  \\\n",
       "0            1             0            0              0               0   \n",
       "\n",
       "   Recent Major Life Event_Yes  Family History of Anxiety_Yes  \n",
       "0                            1                              1  "
      ]
     },
     "execution_count": 5,
     "metadata": {},
     "output_type": "execute_result"
    }
   ],
   "source": [
    "df.head(1)"
   ]
  },
  {
   "cell_type": "code",
   "execution_count": 6,
   "id": "c2565ac9-7a8d-49dc-a469-34ccdfde11d8",
   "metadata": {},
   "outputs": [
    {
     "data": {
      "text/plain": [
       "(11000, 19)"
      ]
     },
     "execution_count": 6,
     "metadata": {},
     "output_type": "execute_result"
    }
   ],
   "source": [
    "df.shape"
   ]
  },
  {
   "cell_type": "code",
   "execution_count": 7,
   "id": "f47b8eea-4bc9-49f3-8640-33ad67b94b67",
   "metadata": {},
   "outputs": [],
   "source": [
    "df = df.dropna()"
   ]
  },
  {
   "cell_type": "code",
   "execution_count": 8,
   "id": "da707c37-385b-4e35-9aa6-025cba5b827b",
   "metadata": {},
   "outputs": [
    {
     "data": {
      "text/html": [
       "<div>\n",
       "<style scoped>\n",
       "    .dataframe tbody tr th:only-of-type {\n",
       "        vertical-align: middle;\n",
       "    }\n",
       "\n",
       "    .dataframe tbody tr th {\n",
       "        vertical-align: top;\n",
       "    }\n",
       "\n",
       "    .dataframe thead th {\n",
       "        text-align: right;\n",
       "    }\n",
       "</style>\n",
       "<table border=\"1\" class=\"dataframe\">\n",
       "  <thead>\n",
       "    <tr style=\"text-align: right;\">\n",
       "      <th></th>\n",
       "      <th>Age</th>\n",
       "      <th>Sleep Hours</th>\n",
       "      <th>Physical Activity (hrs/week)</th>\n",
       "      <th>Caffeine Intake (mg/day)</th>\n",
       "      <th>Alcohol Consumption (drinks/week)</th>\n",
       "      <th>Stress Level (1-10)</th>\n",
       "      <th>Heart Rate (bpm)</th>\n",
       "      <th>Breathing Rate (breaths/min)</th>\n",
       "      <th>Sweating Level (1-5)</th>\n",
       "      <th>Therapy Sessions (per month)</th>\n",
       "      <th>Diet Quality (1-10)</th>\n",
       "      <th>Anxiety Level (1-10)</th>\n",
       "      <th>Gender_Male</th>\n",
       "      <th>Gender_Other</th>\n",
       "      <th>Smoking_Yes</th>\n",
       "      <th>Dizziness_Yes</th>\n",
       "      <th>Medication_Yes</th>\n",
       "      <th>Recent Major Life Event_Yes</th>\n",
       "      <th>Family History of Anxiety_Yes</th>\n",
       "    </tr>\n",
       "  </thead>\n",
       "  <tbody>\n",
       "    <tr>\n",
       "      <th>0</th>\n",
       "      <td>False</td>\n",
       "      <td>False</td>\n",
       "      <td>False</td>\n",
       "      <td>False</td>\n",
       "      <td>False</td>\n",
       "      <td>False</td>\n",
       "      <td>False</td>\n",
       "      <td>False</td>\n",
       "      <td>False</td>\n",
       "      <td>False</td>\n",
       "      <td>False</td>\n",
       "      <td>False</td>\n",
       "      <td>False</td>\n",
       "      <td>False</td>\n",
       "      <td>False</td>\n",
       "      <td>False</td>\n",
       "      <td>False</td>\n",
       "      <td>False</td>\n",
       "      <td>False</td>\n",
       "    </tr>\n",
       "    <tr>\n",
       "      <th>1</th>\n",
       "      <td>False</td>\n",
       "      <td>False</td>\n",
       "      <td>False</td>\n",
       "      <td>False</td>\n",
       "      <td>False</td>\n",
       "      <td>False</td>\n",
       "      <td>False</td>\n",
       "      <td>False</td>\n",
       "      <td>False</td>\n",
       "      <td>False</td>\n",
       "      <td>False</td>\n",
       "      <td>False</td>\n",
       "      <td>False</td>\n",
       "      <td>False</td>\n",
       "      <td>False</td>\n",
       "      <td>False</td>\n",
       "      <td>False</td>\n",
       "      <td>False</td>\n",
       "      <td>False</td>\n",
       "    </tr>\n",
       "    <tr>\n",
       "      <th>2</th>\n",
       "      <td>False</td>\n",
       "      <td>False</td>\n",
       "      <td>False</td>\n",
       "      <td>False</td>\n",
       "      <td>False</td>\n",
       "      <td>False</td>\n",
       "      <td>False</td>\n",
       "      <td>False</td>\n",
       "      <td>False</td>\n",
       "      <td>False</td>\n",
       "      <td>False</td>\n",
       "      <td>False</td>\n",
       "      <td>False</td>\n",
       "      <td>False</td>\n",
       "      <td>False</td>\n",
       "      <td>False</td>\n",
       "      <td>False</td>\n",
       "      <td>False</td>\n",
       "      <td>False</td>\n",
       "    </tr>\n",
       "    <tr>\n",
       "      <th>3</th>\n",
       "      <td>False</td>\n",
       "      <td>False</td>\n",
       "      <td>False</td>\n",
       "      <td>False</td>\n",
       "      <td>False</td>\n",
       "      <td>False</td>\n",
       "      <td>False</td>\n",
       "      <td>False</td>\n",
       "      <td>False</td>\n",
       "      <td>False</td>\n",
       "      <td>False</td>\n",
       "      <td>False</td>\n",
       "      <td>False</td>\n",
       "      <td>False</td>\n",
       "      <td>False</td>\n",
       "      <td>False</td>\n",
       "      <td>False</td>\n",
       "      <td>False</td>\n",
       "      <td>False</td>\n",
       "    </tr>\n",
       "    <tr>\n",
       "      <th>4</th>\n",
       "      <td>False</td>\n",
       "      <td>False</td>\n",
       "      <td>False</td>\n",
       "      <td>False</td>\n",
       "      <td>False</td>\n",
       "      <td>False</td>\n",
       "      <td>False</td>\n",
       "      <td>False</td>\n",
       "      <td>False</td>\n",
       "      <td>False</td>\n",
       "      <td>False</td>\n",
       "      <td>False</td>\n",
       "      <td>False</td>\n",
       "      <td>False</td>\n",
       "      <td>False</td>\n",
       "      <td>False</td>\n",
       "      <td>False</td>\n",
       "      <td>False</td>\n",
       "      <td>False</td>\n",
       "    </tr>\n",
       "    <tr>\n",
       "      <th>...</th>\n",
       "      <td>...</td>\n",
       "      <td>...</td>\n",
       "      <td>...</td>\n",
       "      <td>...</td>\n",
       "      <td>...</td>\n",
       "      <td>...</td>\n",
       "      <td>...</td>\n",
       "      <td>...</td>\n",
       "      <td>...</td>\n",
       "      <td>...</td>\n",
       "      <td>...</td>\n",
       "      <td>...</td>\n",
       "      <td>...</td>\n",
       "      <td>...</td>\n",
       "      <td>...</td>\n",
       "      <td>...</td>\n",
       "      <td>...</td>\n",
       "      <td>...</td>\n",
       "      <td>...</td>\n",
       "    </tr>\n",
       "    <tr>\n",
       "      <th>10995</th>\n",
       "      <td>False</td>\n",
       "      <td>False</td>\n",
       "      <td>False</td>\n",
       "      <td>False</td>\n",
       "      <td>False</td>\n",
       "      <td>False</td>\n",
       "      <td>False</td>\n",
       "      <td>False</td>\n",
       "      <td>False</td>\n",
       "      <td>False</td>\n",
       "      <td>False</td>\n",
       "      <td>False</td>\n",
       "      <td>False</td>\n",
       "      <td>False</td>\n",
       "      <td>False</td>\n",
       "      <td>False</td>\n",
       "      <td>False</td>\n",
       "      <td>False</td>\n",
       "      <td>False</td>\n",
       "    </tr>\n",
       "    <tr>\n",
       "      <th>10996</th>\n",
       "      <td>False</td>\n",
       "      <td>False</td>\n",
       "      <td>False</td>\n",
       "      <td>False</td>\n",
       "      <td>False</td>\n",
       "      <td>False</td>\n",
       "      <td>False</td>\n",
       "      <td>False</td>\n",
       "      <td>False</td>\n",
       "      <td>False</td>\n",
       "      <td>False</td>\n",
       "      <td>False</td>\n",
       "      <td>False</td>\n",
       "      <td>False</td>\n",
       "      <td>False</td>\n",
       "      <td>False</td>\n",
       "      <td>False</td>\n",
       "      <td>False</td>\n",
       "      <td>False</td>\n",
       "    </tr>\n",
       "    <tr>\n",
       "      <th>10997</th>\n",
       "      <td>False</td>\n",
       "      <td>False</td>\n",
       "      <td>False</td>\n",
       "      <td>False</td>\n",
       "      <td>False</td>\n",
       "      <td>False</td>\n",
       "      <td>False</td>\n",
       "      <td>False</td>\n",
       "      <td>False</td>\n",
       "      <td>False</td>\n",
       "      <td>False</td>\n",
       "      <td>False</td>\n",
       "      <td>False</td>\n",
       "      <td>False</td>\n",
       "      <td>False</td>\n",
       "      <td>False</td>\n",
       "      <td>False</td>\n",
       "      <td>False</td>\n",
       "      <td>False</td>\n",
       "    </tr>\n",
       "    <tr>\n",
       "      <th>10998</th>\n",
       "      <td>False</td>\n",
       "      <td>False</td>\n",
       "      <td>False</td>\n",
       "      <td>False</td>\n",
       "      <td>False</td>\n",
       "      <td>False</td>\n",
       "      <td>False</td>\n",
       "      <td>False</td>\n",
       "      <td>False</td>\n",
       "      <td>False</td>\n",
       "      <td>False</td>\n",
       "      <td>False</td>\n",
       "      <td>False</td>\n",
       "      <td>False</td>\n",
       "      <td>False</td>\n",
       "      <td>False</td>\n",
       "      <td>False</td>\n",
       "      <td>False</td>\n",
       "      <td>False</td>\n",
       "    </tr>\n",
       "    <tr>\n",
       "      <th>10999</th>\n",
       "      <td>False</td>\n",
       "      <td>False</td>\n",
       "      <td>False</td>\n",
       "      <td>False</td>\n",
       "      <td>False</td>\n",
       "      <td>False</td>\n",
       "      <td>False</td>\n",
       "      <td>False</td>\n",
       "      <td>False</td>\n",
       "      <td>False</td>\n",
       "      <td>False</td>\n",
       "      <td>False</td>\n",
       "      <td>False</td>\n",
       "      <td>False</td>\n",
       "      <td>False</td>\n",
       "      <td>False</td>\n",
       "      <td>False</td>\n",
       "      <td>False</td>\n",
       "      <td>False</td>\n",
       "    </tr>\n",
       "  </tbody>\n",
       "</table>\n",
       "<p>11000 rows × 19 columns</p>\n",
       "</div>"
      ],
      "text/plain": [
       "         Age  Sleep Hours  Physical Activity (hrs/week)  \\\n",
       "0      False        False                         False   \n",
       "1      False        False                         False   \n",
       "2      False        False                         False   \n",
       "3      False        False                         False   \n",
       "4      False        False                         False   \n",
       "...      ...          ...                           ...   \n",
       "10995  False        False                         False   \n",
       "10996  False        False                         False   \n",
       "10997  False        False                         False   \n",
       "10998  False        False                         False   \n",
       "10999  False        False                         False   \n",
       "\n",
       "       Caffeine Intake (mg/day)  Alcohol Consumption (drinks/week)  \\\n",
       "0                         False                              False   \n",
       "1                         False                              False   \n",
       "2                         False                              False   \n",
       "3                         False                              False   \n",
       "4                         False                              False   \n",
       "...                         ...                                ...   \n",
       "10995                     False                              False   \n",
       "10996                     False                              False   \n",
       "10997                     False                              False   \n",
       "10998                     False                              False   \n",
       "10999                     False                              False   \n",
       "\n",
       "       Stress Level (1-10)  Heart Rate (bpm)  Breathing Rate (breaths/min)  \\\n",
       "0                    False             False                         False   \n",
       "1                    False             False                         False   \n",
       "2                    False             False                         False   \n",
       "3                    False             False                         False   \n",
       "4                    False             False                         False   \n",
       "...                    ...               ...                           ...   \n",
       "10995                False             False                         False   \n",
       "10996                False             False                         False   \n",
       "10997                False             False                         False   \n",
       "10998                False             False                         False   \n",
       "10999                False             False                         False   \n",
       "\n",
       "       Sweating Level (1-5)  Therapy Sessions (per month)  \\\n",
       "0                     False                         False   \n",
       "1                     False                         False   \n",
       "2                     False                         False   \n",
       "3                     False                         False   \n",
       "4                     False                         False   \n",
       "...                     ...                           ...   \n",
       "10995                 False                         False   \n",
       "10996                 False                         False   \n",
       "10997                 False                         False   \n",
       "10998                 False                         False   \n",
       "10999                 False                         False   \n",
       "\n",
       "       Diet Quality (1-10)  Anxiety Level (1-10)  Gender_Male  Gender_Other  \\\n",
       "0                    False                 False        False         False   \n",
       "1                    False                 False        False         False   \n",
       "2                    False                 False        False         False   \n",
       "3                    False                 False        False         False   \n",
       "4                    False                 False        False         False   \n",
       "...                    ...                   ...          ...           ...   \n",
       "10995                False                 False        False         False   \n",
       "10996                False                 False        False         False   \n",
       "10997                False                 False        False         False   \n",
       "10998                False                 False        False         False   \n",
       "10999                False                 False        False         False   \n",
       "\n",
       "       Smoking_Yes  Dizziness_Yes  Medication_Yes  \\\n",
       "0            False          False           False   \n",
       "1            False          False           False   \n",
       "2            False          False           False   \n",
       "3            False          False           False   \n",
       "4            False          False           False   \n",
       "...            ...            ...             ...   \n",
       "10995        False          False           False   \n",
       "10996        False          False           False   \n",
       "10997        False          False           False   \n",
       "10998        False          False           False   \n",
       "10999        False          False           False   \n",
       "\n",
       "       Recent Major Life Event_Yes  Family History of Anxiety_Yes  \n",
       "0                            False                          False  \n",
       "1                            False                          False  \n",
       "2                            False                          False  \n",
       "3                            False                          False  \n",
       "4                            False                          False  \n",
       "...                            ...                            ...  \n",
       "10995                        False                          False  \n",
       "10996                        False                          False  \n",
       "10997                        False                          False  \n",
       "10998                        False                          False  \n",
       "10999                        False                          False  \n",
       "\n",
       "[11000 rows x 19 columns]"
      ]
     },
     "execution_count": 8,
     "metadata": {},
     "output_type": "execute_result"
    }
   ],
   "source": [
    "df.isnull()"
   ]
  },
  {
   "cell_type": "code",
   "execution_count": 9,
   "id": "e220ad71-343d-4ec6-baba-0850b1d77ea2",
   "metadata": {},
   "outputs": [
    {
     "data": {
      "text/plain": [
       "0"
      ]
     },
     "execution_count": 9,
     "metadata": {},
     "output_type": "execute_result"
    }
   ],
   "source": [
    "df.isnull().sum().sum()"
   ]
  },
  {
   "cell_type": "code",
   "execution_count": 10,
   "id": "e0819479-62a7-4894-86f5-0683c5d85a48",
   "metadata": {},
   "outputs": [
    {
     "data": {
      "text/plain": [
       "Age                                    int64\n",
       "Sleep Hours                          float64\n",
       "Physical Activity (hrs/week)         float64\n",
       "Caffeine Intake (mg/day)               int64\n",
       "Alcohol Consumption (drinks/week)      int64\n",
       "Stress Level (1-10)                    int64\n",
       "Heart Rate (bpm)                       int64\n",
       "Breathing Rate (breaths/min)           int64\n",
       "Sweating Level (1-5)                   int64\n",
       "Therapy Sessions (per month)           int64\n",
       "Diet Quality (1-10)                    int64\n",
       "Anxiety Level (1-10)                 float64\n",
       "Gender_Male                            int64\n",
       "Gender_Other                           int64\n",
       "Smoking_Yes                            int64\n",
       "Dizziness_Yes                          int64\n",
       "Medication_Yes                         int64\n",
       "Recent Major Life Event_Yes            int64\n",
       "Family History of Anxiety_Yes          int64\n",
       "dtype: object"
      ]
     },
     "execution_count": 10,
     "metadata": {},
     "output_type": "execute_result"
    }
   ],
   "source": [
    "df.dtypes"
   ]
  },
  {
   "cell_type": "code",
   "execution_count": 11,
   "id": "df888463-1448-4bcb-ae6d-cf576afbdda9",
   "metadata": {},
   "outputs": [
    {
     "data": {
      "image/png": "[encoded data removed]",
      "text/plain": [
       "<Figure size 640x480 with 1 Axes>"
      ]
     },
     "metadata": {},
     "output_type": "display_data"
    }
   ],
   "source": [
    "plt.boxplot(df['Age'])\n",
    "plt.show()"
   ]
  },
  {
   "cell_type": "code",
   "execution_count": 12,
   "id": "00a5622f-7b22-48f3-b229-5e71408334f8",
   "metadata": {},
   "outputs": [],
   "source": [
    "q1 = df['Age'].quantile(0.25)\n",
    "q3 = df['Age'].quantile(0.75)"
   ]
  },
  {
   "cell_type": "code",
   "execution_count": 13,
   "id": "6201eeb7-2608-4370-9185-4da740865513",
   "metadata": {},
   "outputs": [],
   "source": [
    "IQR = q3-q1"
   ]
  },
  {
   "cell_type": "code",
   "execution_count": 14,
   "id": "89e83281-2e84-457b-9a82-e26977a4ee54",
   "metadata": {},
   "outputs": [],
   "source": [
    "min_range = q1-(1.5*IQR)\n",
    "max_range = q3 + (1.5 * IQR)"
   ]
  },
  {
   "cell_type": "code",
   "execution_count": 15,
   "id": "52b7b623-ae6e-4a44-a9a1-7092137e6b26",
   "metadata": {},
   "outputs": [],
   "source": [
    "df = df[(df[\"Age\"]>min_range) & (df[\"Age\"]<max_range)]"
   ]
  },
  {
   "cell_type": "code",
   "execution_count": 16,
   "id": "59456fa0-da11-46e8-9175-ed0665956453",
   "metadata": {},
   "outputs": [
    {
     "data": {
      "text/html": [
       "<div>\n",
       "<style scoped>\n",
       "    .dataframe tbody tr th:only-of-type {\n",
       "        vertical-align: middle;\n",
       "    }\n",
       "\n",
       "    .dataframe tbody tr th {\n",
       "        vertical-align: top;\n",
       "    }\n",
       "\n",
       "    .dataframe thead th {\n",
       "        text-align: right;\n",
       "    }\n",
       "</style>\n",
       "<table border=\"1\" class=\"dataframe\">\n",
       "  <thead>\n",
       "    <tr style=\"text-align: right;\">\n",
       "      <th></th>\n",
       "      <th>Age</th>\n",
       "      <th>Sleep Hours</th>\n",
       "      <th>Physical Activity (hrs/week)</th>\n",
       "      <th>Caffeine Intake (mg/day)</th>\n",
       "      <th>Alcohol Consumption (drinks/week)</th>\n",
       "      <th>Stress Level (1-10)</th>\n",
       "      <th>Heart Rate (bpm)</th>\n",
       "      <th>Breathing Rate (breaths/min)</th>\n",
       "      <th>Sweating Level (1-5)</th>\n",
       "      <th>Therapy Sessions (per month)</th>\n",
       "      <th>Diet Quality (1-10)</th>\n",
       "      <th>Anxiety Level (1-10)</th>\n",
       "      <th>Gender_Male</th>\n",
       "      <th>Gender_Other</th>\n",
       "      <th>Smoking_Yes</th>\n",
       "      <th>Dizziness_Yes</th>\n",
       "      <th>Medication_Yes</th>\n",
       "      <th>Recent Major Life Event_Yes</th>\n",
       "      <th>Family History of Anxiety_Yes</th>\n",
       "    </tr>\n",
       "  </thead>\n",
       "  <tbody>\n",
       "    <tr>\n",
       "      <th>0</th>\n",
       "      <td>64</td>\n",
       "      <td>6.1</td>\n",
       "      <td>0.6</td>\n",
       "      <td>74</td>\n",
       "      <td>12</td>\n",
       "      <td>8</td>\n",
       "      <td>106</td>\n",
       "      <td>27</td>\n",
       "      <td>2</td>\n",
       "      <td>5</td>\n",
       "      <td>9</td>\n",
       "      <td>4.0</td>\n",
       "      <td>1</td>\n",
       "      <td>0</td>\n",
       "      <td>0</td>\n",
       "      <td>0</td>\n",
       "      <td>0</td>\n",
       "      <td>1</td>\n",
       "      <td>1</td>\n",
       "    </tr>\n",
       "    <tr>\n",
       "      <th>1</th>\n",
       "      <td>64</td>\n",
       "      <td>5.5</td>\n",
       "      <td>1.6</td>\n",
       "      <td>246</td>\n",
       "      <td>13</td>\n",
       "      <td>1</td>\n",
       "      <td>84</td>\n",
       "      <td>14</td>\n",
       "      <td>5</td>\n",
       "      <td>0</td>\n",
       "      <td>5</td>\n",
       "      <td>3.0</td>\n",
       "      <td>0</td>\n",
       "      <td>1</td>\n",
       "      <td>1</td>\n",
       "      <td>0</td>\n",
       "      <td>1</td>\n",
       "      <td>0</td>\n",
       "      <td>0</td>\n",
       "    </tr>\n",
       "  </tbody>\n",
       "</table>\n",
       "</div>"
      ],
      "text/plain": [
       "   Age  Sleep Hours  Physical Activity (hrs/week)  Caffeine Intake (mg/day)  \\\n",
       "0   64          6.1                           0.6                        74   \n",
       "1   64          5.5                           1.6                       246   \n",
       "\n",
       "   Alcohol Consumption (drinks/week)  Stress Level (1-10)  Heart Rate (bpm)  \\\n",
       "0                                 12                    8               106   \n",
       "1                                 13                    1                84   \n",
       "\n",
       "   Breathing Rate (breaths/min)  Sweating Level (1-5)  \\\n",
       "0                            27                     2   \n",
       "1                            14                     5   \n",
       "\n",
       "   Therapy Sessions (per month)  Diet Quality (1-10)  Anxiety Level (1-10)  \\\n",
       "0                             5                    9                   4.0   \n",
       "1                             0                    5                   3.0   \n",
       "\n",
       "   Gender_Male  Gender_Other  Smoking_Yes  Dizziness_Yes  Medication_Yes  \\\n",
       "0            1             0            0              0               0   \n",
       "1            0             1            1              0               1   \n",
       "\n",
       "   Recent Major Life Event_Yes  Family History of Anxiety_Yes  \n",
       "0                            1                              1  \n",
       "1                            0                              0  "
      ]
     },
     "execution_count": 16,
     "metadata": {},
     "output_type": "execute_result"
    }
   ],
   "source": [
    "df.head(2)"
   ]
  },
  {
   "cell_type": "code",
   "execution_count": 17,
   "id": "3493431a-42e8-472e-aaa6-0ac1fa27d48d",
   "metadata": {},
   "outputs": [],
   "source": [
    "from sklearn.model_selection import train_test_split\n",
    "from sklearn.preprocessing import StandardScaler\n",
    "from sklearn.preprocessing import LabelEncoder"
   ]
  },
  {
   "cell_type": "code",
   "execution_count": 18,
   "id": "4aec599f-2b0e-4d96-b40e-c477dd84201f",
   "metadata": {},
   "outputs": [],
   "source": [
    "x_train , x_test , y_train , y_test = train_test_split(pd.concat([df.iloc[:,:14],df.iloc[:,15:]] , axis=1),df.iloc[:,14],random_state=42,test_size=0.2)"
   ]
  },
  {
   "cell_type": "code",
   "execution_count": 19,
   "id": "c01631a4-175d-41be-8ea7-35b8b0556cac",
   "metadata": {},
   "outputs": [],
   "source": [
    "scalar = StandardScaler()\n",
    "x_train = scalar.fit_transform(x_train)\n",
    "x_test = scalar.transform(x_test)"
   ]
  },
  {
   "cell_type": "code",
   "execution_count": 20,
   "id": "6ac4a69a-9282-4611-8a36-8b25bc99fd68",
   "metadata": {},
   "outputs": [
    {
     "data": {
      "text/plain": [
       "array([[-1.60677798,  0.8602772 , -0.72328291, ...,  0.97220433,\n",
       "         0.97908236, -1.06409562],\n",
       "       [-0.16872984, -1.58978246, -0.61422598, ...,  0.97220433,\n",
       "         0.97908236, -1.06409562],\n",
       "       [-0.69853705, -1.67145111, -0.61422598, ...,  0.97220433,\n",
       "         0.97908236,  0.93976517],\n",
       "       ...,\n",
       "       [-0.01735635,  0.04359064,  1.78502648, ...,  0.97220433,\n",
       "        -1.02136453, -1.06409562],\n",
       "       [ 1.49637854,  0.20692796, -0.01441286, ...,  0.97220433,\n",
       "         0.97908236,  0.93976517],\n",
       "       [-0.54716356,  1.84030106,  0.0401156 , ...,  0.97220433,\n",
       "         0.97908236, -1.06409562]])"
      ]
     },
     "execution_count": 20,
     "metadata": {},
     "output_type": "execute_result"
    }
   ],
   "source": [
    "x_train"
   ]
  },
  {
   "cell_type": "code",
   "execution_count": 21,
   "id": "fb74474d-e0cd-4a0f-a2df-8c236e47329a",
   "metadata": {},
   "outputs": [
    {
     "data": {
      "text/plain": [
       "array([[ 1.79912552, -1.09977053, -1.48668142, ..., -1.02859036,\n",
       "        -1.02136453,  0.93976517],\n",
       "       [-0.01735635,  1.02361451,  0.42181485, ..., -1.02859036,\n",
       "         0.97908236, -1.06409562],\n",
       "       [-0.47147681, -1.91645708, -0.94139677, ..., -1.02859036,\n",
       "        -1.02136453,  0.93976517],\n",
       "       ...,\n",
       "       [-1.53109124,  2.98366223,  0.14917253, ..., -1.02859036,\n",
       "        -1.02136453, -1.06409562],\n",
       "       [-0.09304309, -2.07979439, -0.66875444, ...,  0.97220433,\n",
       "         0.97908236, -1.06409562],\n",
       "       [-0.6228503 ,  0.53360258,  1.67596955, ...,  0.97220433,\n",
       "        -1.02136453, -1.06409562]])"
      ]
     },
     "execution_count": 21,
     "metadata": {},
     "output_type": "execute_result"
    }
   ],
   "source": [
    "x_test"
   ]
  },
  {
   "cell_type": "code",
   "execution_count": 22,
   "id": "4cbb9fa5-1f4f-4c3e-8683-0191f8202b62",
   "metadata": {},
   "outputs": [
    {
     "data": {
      "text/plain": [
       "10735    0\n",
       "5937     1\n",
       "7642     1\n",
       "3328     0\n",
       "8681     0\n",
       "        ..\n",
       "5734     1\n",
       "5191     1\n",
       "5390     1\n",
       "860      1\n",
       "7270     0\n",
       "Name: Smoking_Yes, Length: 8800, dtype: int64"
      ]
     },
     "execution_count": 22,
     "metadata": {},
     "output_type": "execute_result"
    }
   ],
   "source": [
    "y_train"
   ]
  },
  {
   "cell_type": "code",
   "execution_count": 23,
   "id": "38a7b0b1-01fe-4287-8576-d6e96efb789c",
   "metadata": {},
   "outputs": [],
   "source": [
    "lable = LabelEncoder()\n",
    "y_train = lable.fit_transform(y_train)\n",
    "y_test = lable.fit_transform(y_test)"
   ]
  },
  {
   "cell_type": "code",
   "execution_count": 24,
   "id": "7966ca3a-2838-43be-ae25-a620583423b4",
   "metadata": {},
   "outputs": [
    {
     "data": {
      "text/plain": [
       "array([0, 1, 1, ..., 1, 1, 0], dtype=int64)"
      ]
     },
     "execution_count": 24,
     "metadata": {},
     "output_type": "execute_result"
    }
   ],
   "source": [
    "y_train"
   ]
  },
  {
   "cell_type": "code",
   "execution_count": 25,
   "id": "4509aa8e-f77a-458e-842e-b39fc5204554",
   "metadata": {},
   "outputs": [
    {
     "data": {
      "text/plain": [
       "array([1, 1, 1, ..., 1, 0, 1], dtype=int64)"
      ]
     },
     "execution_count": 25,
     "metadata": {},
     "output_type": "execute_result"
    }
   ],
   "source": [
    "y_test"
   ]
  },
  {
   "cell_type": "code",
   "execution_count": 26,
   "id": "ca24c9f2-0d57-467e-9a36-80bffff8f82f",
   "metadata": {},
   "outputs": [],
   "source": [
    "x_train_tensor = torch.from_numpy(x_train)\n",
    "x_test_tensor  =  torch.from_numpy(x_test)\n",
    "y_train_tensor = torch.from_numpy(y_train)\n",
    "y_test_tensor = torch.from_numpy(y_test)"
   ]
  },
  {
   "cell_type": "code",
   "execution_count": 27,
   "id": "a5f4f6b7-2dd5-4cd2-96eb-22b99dd21e71",
   "metadata": {},
   "outputs": [
    {
     "data": {
      "text/plain": [
       "torch.Size([8800, 18])"
      ]
     },
     "execution_count": 27,
     "metadata": {},
     "output_type": "execute_result"
    }
   ],
   "source": [
    "x_train_tensor.shape"
   ]
  },
  {
   "cell_type": "code",
   "execution_count": 28,
   "id": "9ab3e0ad-503b-4df4-8518-abee7a91bbbe",
   "metadata": {},
   "outputs": [
    {
     "data": {
      "text/plain": [
       "torch.Size([8800])"
      ]
     },
     "execution_count": 28,
     "metadata": {},
     "output_type": "execute_result"
    }
   ],
   "source": [
    "y_train_tensor.shape"
   ]
  },
  {
   "cell_type": "code",
   "execution_count": 33,
   "id": "e007524a-9cf3-4237-baa2-75c9d9884488",
   "metadata": {},
   "outputs": [],
   "source": [
    "import torch\n",
    "\n",
    "class MyNN():\n",
    "    def __init__(self, X):\n",
    "        self.weights = torch.rand(X.shape[1], 1, dtype=torch.float64, requires_grad=True)\n",
    "        self.bias = torch.zeros(1, dtype=torch.float64, requires_grad=True)\n",
    "\n",
    "    def forward(self, X):\n",
    "        z = torch.matmul(X, self.weights) + self.bias  # Use X @ W + b\n",
    "        y_pred = torch.sigmoid(z)\n",
    "        return y_pred\n",
    "\n",
    "    def loss_function(self, y_pred, y_true):\n",
    "        epsilon = 1e-7\n",
    "        y_pred = torch.clamp(y_pred, epsilon, 1 - epsilon)\n",
    "        loss = -(y_true * torch.log(y_pred) + (1 - y_true) * torch.log(1 - y_pred)).mean()\n",
    "        return loss "
   ]
  },
  {
   "cell_type": "code",
   "execution_count": 35,
   "id": "c6f51e10-9e3a-41e6-a8a5-b0f2e5ecc9b0",
   "metadata": {},
   "outputs": [],
   "source": [
    "learning_rate = 0.1\n",
    "epochs =25 "
   ]
  },
  {
   "cell_type": "code",
   "execution_count": 37,
   "id": "f2f45a5b-d85d-4750-820f-22e08c631ac8",
   "metadata": {},
   "outputs": [
    {
     "name": "stdout",
     "output_type": "stream",
     "text": [
      "Epoch: 1, Loss: 1.3908091312903876\n",
      "Epoch: 2, Loss: 1.3700362585540846\n",
      "Epoch: 3, Loss: 1.349654942477401\n",
      "Epoch: 4, Loss: 1.329674691451939\n",
      "Epoch: 5, Loss: 1.3101047833842854\n",
      "Epoch: 6, Loss: 1.2909541597917582\n",
      "Epoch: 7, Loss: 1.272231311092977\n",
      "Epoch: 8, Loss: 1.2539441549946329\n",
      "Epoch: 9, Loss: 1.2360999104234682\n",
      "Epoch: 10, Loss: 1.218704969973604\n",
      "Epoch: 11, Loss: 1.201764774302555\n",
      "Epoch: 12, Loss: 1.1852836922786645\n",
      "Epoch: 13, Loss: 1.169264910918509\n",
      "Epoch: 14, Loss: 1.1537103392144714\n",
      "Epoch: 15, Loss: 1.1386205298036929\n",
      "Epoch: 16, Loss: 1.123994622044875\n",
      "Epoch: 17, Loss: 1.1098303094421484\n",
      "Epoch: 18, Loss: 1.0961238335029793\n",
      "Epoch: 19, Loss: 1.0828700050835012\n",
      "Epoch: 20, Loss: 1.0700622531272337\n",
      "Epoch: 21, Loss: 1.0576926995260698\n",
      "Epoch: 22, Loss: 1.045752257716375\n",
      "Epoch: 23, Loss: 1.0342307516536637\n",
      "Epoch: 24, Loss: 1.0231170510566239\n",
      "Epoch: 25, Loss: 1.0123992183218313\n"
     ]
    }
   ],
   "source": [
    "model = MyNN(x_train_tensor)\n",
    "# define loop\n",
    "for epoch in range(epochs):\n",
    "\n",
    "  # forward pass\n",
    "  y_pred = model.forward(x_train_tensor)\n",
    "\n",
    "  # loss calculate\n",
    "  loss = model.loss_function(y_pred, y_train_tensor)\n",
    "\n",
    "  # backward pass\n",
    "  loss.backward()\n",
    "\n",
    "  # parameters update\n",
    "  with torch.no_grad():\n",
    "    model.weights -= learning_rate * model.weights.grad\n",
    "    model.bias -= learning_rate * model.bias.grad\n",
    "\n",
    "  # zero gradients\n",
    "  model.weights.grad.zero_()\n",
    "  model.bias.grad.zero_()\n",
    "\n",
    "  # print loss in each epoch\n",
    "  print(f'Epoch: {epoch + 1}, Loss: {loss.item()}')"
   ]
  },
  {
   "cell_type": "code",
   "execution_count": 39,
   "id": "c7bea0f9-95f3-485e-b9b2-f9dc63affaa7",
   "metadata": {},
   "outputs": [
    {
     "data": {
      "text/plain": [
       "tensor([0.0592], dtype=torch.float64, requires_grad=True)"
      ]
     },
     "execution_count": 39,
     "metadata": {},
     "output_type": "execute_result"
    }
   ],
   "source": [
    "model.bias"
   ]
  },
  {
   "cell_type": "code",
   "execution_count": 53,
   "id": "749ed184-c76b-435c-b7e6-0c66424ed7ae",
   "metadata": {},
   "outputs": [
    {
     "name": "stdout",
     "output_type": "stream",
     "text": [
      "Accuracy: 0.5127272605895996\n"
     ]
    }
   ],
   "source": [
    "with torch.no_grad():\n",
    "  y_pred = model.forward(x_test_tensor)\n",
    "  y_pred = (y_pred > 0.1).float()\n",
    "  accuracy = (y_pred == y_test_tensor).float().mean()\n",
    "  print(f'Accuracy: {accuracy.item()}')"
   ]
  },
  {
   "cell_type": "code",
   "execution_count": null,
   "id": "10e10aa2-6d7e-41e7-82cb-4117e1375bf2",
   "metadata": {},
   "outputs": [],
   "source": []
  },
  {
   "cell_type": "code",
   "execution_count": null,
   "id": "2e52fb4f-0fa6-4530-b84c-d28a8068acd7",
   "metadata": {},
   "outputs": [],
   "source": []
  }
 ],
 "metadata": {
  "kernelspec": {
   "display_name": "Python 3 (ipykernel)",
   "language": "python",
   "name": "python3"
  },
  "language_info": {
   "codemirror_mode": {
    "name": "ipython",
    "version": 3
   },
   "file_extension": ".py",
   "mimetype": "text/x-python",
   "name": "python",
   "nbconvert_exporter": "python",
   "pygments_lexer": "ipython3",
   "version": "3.12.3"
  }
 },
 "nbformat": 4,
 "nbformat_minor": 5
}
