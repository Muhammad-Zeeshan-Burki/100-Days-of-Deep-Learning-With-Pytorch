{
 "cells": [
  {
   "cell_type": "code",
   "execution_count": 1,
   "id": "8d8d1abd-00f5-44ce-ad02-c9620551d188",
   "metadata": {},
   "outputs": [],
   "source": [
    "import os \n",
    "import torch \n",
    "import torchvision.transforms as transforms\n",
    "from torch.utils.data import Dataset , DataLoader\n",
    "from torchvision.datasets import ImageFolder\n",
    "from PIL import Image\n",
    "from torch.utils.data import random_split"
   ]
  },
  {
   "cell_type": "code",
   "execution_count": 2,
   "id": "c3a16c71-aef5-4d86-89e8-7f5f69673689",
   "metadata": {},
   "outputs": [
    {
     "name": "stdout",
     "output_type": "stream",
     "text": [
      "cuda\n"
     ]
    }
   ],
   "source": [
    "device = torch.device('cuda' if torch.cuda.is_available() else 'cpu')\n",
    "print(device)"
   ]
  },
  {
   "cell_type": "code",
   "execution_count": 3,
   "id": "0e139328-a921-4a6e-b4f5-64e1a685cb34",
   "metadata": {},
   "outputs": [],
   "source": [
    "train_transform = transforms.Compose([\n",
    "    transforms.Resize((224,224)),\n",
    "    transforms.RandomHorizontalFlip(),\n",
    "    transforms.ToTensor(),\n",
    "    transforms.Normalize([0.485, 0.456, 0.406] , [0.229, 0.224, 0.225])\n",
    "])"
   ]
  },
  {
   "cell_type": "code",
   "execution_count": 4,
   "id": "ee0a2135-159a-46aa-8ef2-8bf0ad3649ff",
   "metadata": {},
   "outputs": [],
   "source": [
    "full_dataset = ImageFolder(root='Pet_Images', transform=train_transform)"
   ]
  },
  {
   "cell_type": "code",
   "execution_count": 5,
   "id": "149894b7-8a20-459c-be47-8eb9393dd695",
   "metadata": {},
   "outputs": [
    {
     "data": {
      "text/plain": [
       "Dataset ImageFolder\n",
       "    Number of datapoints: 24959\n",
       "    Root location: Pet_Images\n",
       "    StandardTransform\n",
       "Transform: Compose(\n",
       "               Resize(size=(224, 224), interpolation=bilinear, max_size=None, antialias=True)\n",
       "               RandomHorizontalFlip(p=0.5)\n",
       "               ToTensor()\n",
       "               Normalize(mean=[0.485, 0.456, 0.406], std=[0.229, 0.224, 0.225])\n",
       "           )"
      ]
     },
     "execution_count": 5,
     "metadata": {},
     "output_type": "execute_result"
    }
   ],
   "source": [
    "full_dataset"
   ]
  },
  {
   "cell_type": "code",
   "execution_count": 6,
   "id": "44938071-9c20-417f-b293-4759e29ea683",
   "metadata": {},
   "outputs": [
    {
     "data": {
      "text/plain": [
       "24959"
      ]
     },
     "execution_count": 6,
     "metadata": {},
     "output_type": "execute_result"
    }
   ],
   "source": [
    "len(full_dataset)"
   ]
  },
  {
   "cell_type": "code",
   "execution_count": 7,
   "id": "98824304-637b-492d-9454-82c3028f0eaf",
   "metadata": {},
   "outputs": [],
   "source": [
    "train_size = int(0.8*len(full_dataset))\n",
    "test_size  = len(full_dataset) - train_size"
   ]
  },
  {
   "cell_type": "code",
   "execution_count": 8,
   "id": "70deadc2-7446-421a-8bde-70c0ac86eb0b",
   "metadata": {},
   "outputs": [
    {
     "data": {
      "text/plain": [
       "19967"
      ]
     },
     "execution_count": 8,
     "metadata": {},
     "output_type": "execute_result"
    }
   ],
   "source": [
    "train_size"
   ]
  },
  {
   "cell_type": "code",
   "execution_count": 9,
   "id": "091dd082-d038-4b3e-8c34-27bdb4e55681",
   "metadata": {},
   "outputs": [
    {
     "data": {
      "text/plain": [
       "4992"
      ]
     },
     "execution_count": 9,
     "metadata": {},
     "output_type": "execute_result"
    }
   ],
   "source": [
    "test_size"
   ]
  },
  {
   "cell_type": "code",
   "execution_count": 10,
   "id": "456771b4-7d82-4e3e-acb4-5bf3b9b89a6e",
   "metadata": {},
   "outputs": [],
   "source": [
    "train_dataset , test_dataset = random_split(full_dataset , [train_size , test_size])"
   ]
  },
  {
   "cell_type": "code",
   "execution_count": 11,
   "id": "7b217035-c7a4-47f3-ac9c-ed2171c60cdc",
   "metadata": {},
   "outputs": [],
   "source": [
    "train_loader = DataLoader(train_dataset , shuffle=True , batch_size=32 , num_workers=3)"
   ]
  },
  {
   "cell_type": "code",
   "execution_count": 12,
   "id": "2b4f4b14-a73a-4d70-a601-0d7840482e92",
   "metadata": {},
   "outputs": [],
   "source": [
    "test_loader = DataLoader(test_dataset , shuffle=True , batch_size=32 , num_workers=3)"
   ]
  },
  {
   "cell_type": "code",
   "execution_count": null,
   "id": "10856ab8-19e1-46b9-9dff-8392d7474cfe",
   "metadata": {},
   "outputs": [],
   "source": []
  }
 ],
 "metadata": {
  "kernelspec": {
   "display_name": "Python 3 (ipykernel)",
   "language": "python",
   "name": "python3"
  },
  "language_info": {
   "codemirror_mode": {
    "name": "ipython",
    "version": 3
   },
   "file_extension": ".py",
   "mimetype": "text/x-python",
   "name": "python",
   "nbconvert_exporter": "python",
   "pygments_lexer": "ipython3",
   "version": "3.12.3"
  }
 },
 "nbformat": 4,
 "nbformat_minor": 5
}
