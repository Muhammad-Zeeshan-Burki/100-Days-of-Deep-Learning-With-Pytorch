{
 "cells": [
  {
   "cell_type": "code",
   "execution_count": 2,
   "id": "aae126e8-4d1f-40b7-b053-baaa0b33deeb",
   "metadata": {},
   "outputs": [
    {
     "data": {
      "text/html": [
       "<div>\n",
       "<style scoped>\n",
       "    .dataframe tbody tr th:only-of-type {\n",
       "        vertical-align: middle;\n",
       "    }\n",
       "\n",
       "    .dataframe tbody tr th {\n",
       "        vertical-align: top;\n",
       "    }\n",
       "\n",
       "    .dataframe thead th {\n",
       "        text-align: right;\n",
       "    }\n",
       "</style>\n",
       "<table border=\"1\" class=\"dataframe\">\n",
       "  <thead>\n",
       "    <tr style=\"text-align: right;\">\n",
       "      <th></th>\n",
       "      <th>Pregnancies</th>\n",
       "      <th>Glucose</th>\n",
       "      <th>BloodPressure</th>\n",
       "      <th>SkinThickness</th>\n",
       "      <th>Insulin</th>\n",
       "      <th>BMI</th>\n",
       "      <th>DiabetesPedigreeFunction</th>\n",
       "      <th>Age</th>\n",
       "      <th>Outcome</th>\n",
       "    </tr>\n",
       "  </thead>\n",
       "  <tbody>\n",
       "    <tr>\n",
       "      <th>0</th>\n",
       "      <td>6</td>\n",
       "      <td>148</td>\n",
       "      <td>72</td>\n",
       "      <td>35</td>\n",
       "      <td>0</td>\n",
       "      <td>33.6</td>\n",
       "      <td>0.627</td>\n",
       "      <td>50</td>\n",
       "      <td>1</td>\n",
       "    </tr>\n",
       "    <tr>\n",
       "      <th>1</th>\n",
       "      <td>1</td>\n",
       "      <td>85</td>\n",
       "      <td>66</td>\n",
       "      <td>29</td>\n",
       "      <td>0</td>\n",
       "      <td>26.6</td>\n",
       "      <td>0.351</td>\n",
       "      <td>31</td>\n",
       "      <td>0</td>\n",
       "    </tr>\n",
       "    <tr>\n",
       "      <th>2</th>\n",
       "      <td>8</td>\n",
       "      <td>183</td>\n",
       "      <td>64</td>\n",
       "      <td>0</td>\n",
       "      <td>0</td>\n",
       "      <td>23.3</td>\n",
       "      <td>0.672</td>\n",
       "      <td>32</td>\n",
       "      <td>1</td>\n",
       "    </tr>\n",
       "    <tr>\n",
       "      <th>3</th>\n",
       "      <td>1</td>\n",
       "      <td>89</td>\n",
       "      <td>66</td>\n",
       "      <td>23</td>\n",
       "      <td>94</td>\n",
       "      <td>28.1</td>\n",
       "      <td>0.167</td>\n",
       "      <td>21</td>\n",
       "      <td>0</td>\n",
       "    </tr>\n",
       "    <tr>\n",
       "      <th>4</th>\n",
       "      <td>0</td>\n",
       "      <td>137</td>\n",
       "      <td>40</td>\n",
       "      <td>35</td>\n",
       "      <td>168</td>\n",
       "      <td>43.1</td>\n",
       "      <td>2.288</td>\n",
       "      <td>33</td>\n",
       "      <td>1</td>\n",
       "    </tr>\n",
       "  </tbody>\n",
       "</table>\n",
       "</div>"
      ],
      "text/plain": [
       "   Pregnancies  Glucose  BloodPressure  SkinThickness  Insulin   BMI  \\\n",
       "0            6      148             72             35        0  33.6   \n",
       "1            1       85             66             29        0  26.6   \n",
       "2            8      183             64              0        0  23.3   \n",
       "3            1       89             66             23       94  28.1   \n",
       "4            0      137             40             35      168  43.1   \n",
       "\n",
       "   DiabetesPedigreeFunction  Age  Outcome  \n",
       "0                     0.627   50        1  \n",
       "1                     0.351   31        0  \n",
       "2                     0.672   32        1  \n",
       "3                     0.167   21        0  \n",
       "4                     2.288   33        1  "
      ]
     },
     "execution_count": 2,
     "metadata": {},
     "output_type": "execute_result"
    }
   ],
   "source": [
    "import optuna\n",
    "import numpy as np \n",
    "from sklearn.datasets import load_diabetes\n",
    "from sklearn.model_selection import train_test_split\n",
    "from sklearn.preprocessing import StandardScaler\n",
    "import pandas as pd\n",
    "url = \"https://raw.githubusercontent.com/jbrownlee/Datasets/master/pima-indians-diabetes.data.csv\"\n",
    "columns = ['Pregnancies', 'Glucose', 'BloodPressure', 'SkinThickness', 'Insulin', 'BMI',\n",
    "           'DiabetesPedigreeFunction', 'Age', 'Outcome']\n",
    "df = pd.read_csv(url, names=columns)\n",
    "df.head()"
   ]
  },
  {
   "cell_type": "code",
   "execution_count": 3,
   "id": "d2078e06-9ca3-47a9-8d58-bc19aee2a6bc",
   "metadata": {},
   "outputs": [
    {
     "data": {
      "text/plain": [
       "Pregnancies                 0\n",
       "Glucose                     0\n",
       "BloodPressure               0\n",
       "SkinThickness               0\n",
       "Insulin                     0\n",
       "BMI                         0\n",
       "DiabetesPedigreeFunction    0\n",
       "Age                         0\n",
       "Outcome                     0\n",
       "dtype: int64"
      ]
     },
     "execution_count": 3,
     "metadata": {},
     "output_type": "execute_result"
    }
   ],
   "source": [
    "df.isnull().sum()"
   ]
  },
  {
   "cell_type": "code",
   "execution_count": 4,
   "id": "52aac617-2846-4656-b3bc-00763330daf2",
   "metadata": {},
   "outputs": [],
   "source": [
    "cols_with_missing_values = ['Glucose', 'BloodPressure', 'SkinThickness', 'Insulin', 'BMI']\n",
    "df[cols_with_missing_values] = df[cols_with_missing_values].replace(0,np.nan)"
   ]
  },
  {
   "cell_type": "code",
   "execution_count": 5,
   "id": "a103e6f7-8db1-4d8b-8f1c-1c26f9256566",
   "metadata": {},
   "outputs": [
    {
     "data": {
      "text/plain": [
       "Pregnancies                   0\n",
       "Glucose                       5\n",
       "BloodPressure                35\n",
       "SkinThickness               227\n",
       "Insulin                     374\n",
       "BMI                          11\n",
       "DiabetesPedigreeFunction      0\n",
       "Age                           0\n",
       "Outcome                       0\n",
       "dtype: int64"
      ]
     },
     "execution_count": 5,
     "metadata": {},
     "output_type": "execute_result"
    }
   ],
   "source": [
    "df.isnull().sum()"
   ]
  },
  {
   "cell_type": "code",
   "execution_count": 6,
   "id": "9381b3c2-f181-4862-b808-a67801e9b73e",
   "metadata": {},
   "outputs": [],
   "source": [
    "df = df.fillna(df.mean())"
   ]
  },
  {
   "cell_type": "code",
   "execution_count": 7,
   "id": "450e95d5-64f3-44af-90af-570ef6c2e2a5",
   "metadata": {},
   "outputs": [
    {
     "data": {
      "text/plain": [
       "Pregnancies                 0\n",
       "Glucose                     0\n",
       "BloodPressure               0\n",
       "SkinThickness               0\n",
       "Insulin                     0\n",
       "BMI                         0\n",
       "DiabetesPedigreeFunction    0\n",
       "Age                         0\n",
       "Outcome                     0\n",
       "dtype: int64"
      ]
     },
     "execution_count": 7,
     "metadata": {},
     "output_type": "execute_result"
    }
   ],
   "source": [
    "df.isnull().sum()"
   ]
  },
  {
   "cell_type": "code",
   "execution_count": 8,
   "id": "c24872f7-e1a2-40bc-8697-daa217845f44",
   "metadata": {},
   "outputs": [],
   "source": [
    "x = df.drop('Outcome' , axis=1)"
   ]
  },
  {
   "cell_type": "code",
   "execution_count": 9,
   "id": "11ad3a6c-de37-4855-81a5-1afabf8d5565",
   "metadata": {},
   "outputs": [],
   "source": [
    "y=df['Outcome']"
   ]
  },
  {
   "cell_type": "code",
   "execution_count": 10,
   "id": "d95393e9-1934-42e9-bdfd-def8ed4ca496",
   "metadata": {},
   "outputs": [],
   "source": [
    "x_train , x_test , y_train , y_test = train_test_split(x , y , test_size=0.2 , random_state=42)"
   ]
  },
  {
   "cell_type": "code",
   "execution_count": 11,
   "id": "8a9fc590-ab6a-4579-baa6-06b425c03590",
   "metadata": {},
   "outputs": [],
   "source": [
    "scalar = StandardScaler()\n",
    "x_train = scalar.fit_transform(x_train)\n",
    "x_test  = scalar.transform(x_test)"
   ]
  },
  {
   "cell_type": "code",
   "execution_count": 12,
   "id": "2c0967a9-d967-4aa9-81f9-cb3fa226605a",
   "metadata": {},
   "outputs": [
    {
     "name": "stdout",
     "output_type": "stream",
     "text": [
      "Training set shape: (614, 8)\n",
      "Test set shape: (154, 8)\n"
     ]
    }
   ],
   "source": [
    "print(f'Training set shape: {x_train.shape}')\n",
    "print(f'Test set shape: {x_test.shape}')"
   ]
  },
  {
   "cell_type": "code",
   "execution_count": 25,
   "id": "0d87ce68-e0a2-45f7-bfcf-bcd39ded94fd",
   "metadata": {},
   "outputs": [],
   "source": [
    "from sklearn.ensemble import RandomForestClassifier\n",
    "from sklearn.model_selection import cross_val_score"
   ]
  },
  {
   "cell_type": "code",
   "execution_count": 31,
   "id": "419830a3-3c10-4d3b-8e22-66ff524a60e8",
   "metadata": {},
   "outputs": [],
   "source": [
    "def objective(trial):\n",
    "    n_estimators = trial.suggest_int('n_estimators' , 15 ,200)\n",
    "    max_depth  = trial.suggest_int('max_depth' , 10,20)\n",
    "    model= RandomForestClassifier(\n",
    "        n_estimators=n_estimators,\n",
    "        max_depth=max_depth,\n",
    "        random_state=42\n",
    "    )\n",
    "    score = cross_val_score(model , x_train , y_train , cv=3 , scoring='accuracy' ).mean()\n",
    "    return score"
   ]
  },
  {
   "cell_type": "code",
   "execution_count": 35,
   "id": "1019c820-f44c-4623-8f82-16056ce2fc62",
   "metadata": {},
   "outputs": [
    {
     "name": "stderr",
     "output_type": "stream",
     "text": [
      "[I 2025-04-29 22:40:16,745] A new study created in memory with name: no-name-d259fa42-a23f-464d-863e-fd47474c5885\n",
      "[I 2025-04-29 22:40:17,746] Trial 0 finished with value: 0.7735931771082417 and parameters: {'n_estimators': 156, 'max_depth': 17}. Best is trial 0 with value: 0.7735931771082417.\n",
      "[I 2025-04-29 22:40:18,943] Trial 1 finished with value: 0.771967160848079 and parameters: {'n_estimators': 189, 'max_depth': 19}. Best is trial 0 with value: 0.7735931771082417.\n",
      "[I 2025-04-29 22:40:20,222] Trial 2 finished with value: 0.7670811413996493 and parameters: {'n_estimators': 170, 'max_depth': 19}. Best is trial 0 with value: 0.7735931771082417.\n",
      "[I 2025-04-29 22:40:20,916] Trial 3 finished with value: 0.7784951378925554 and parameters: {'n_estimators': 114, 'max_depth': 20}. Best is trial 3 with value: 0.7784951378925554.\n",
      "[I 2025-04-29 22:40:22,085] Trial 4 finished with value: 0.7736011477761836 and parameters: {'n_estimators': 192, 'max_depth': 15}. Best is trial 3 with value: 0.7784951378925554.\n",
      "[I 2025-04-29 22:40:22,386] Trial 5 finished with value: 0.768691216323928 and parameters: {'n_estimators': 49, 'max_depth': 18}. Best is trial 3 with value: 0.7784951378925554.\n",
      "[I 2025-04-29 22:40:23,113] Trial 6 finished with value: 0.780121154152718 and parameters: {'n_estimators': 118, 'max_depth': 16}. Best is trial 6 with value: 0.780121154152718.\n",
      "[I 2025-04-29 22:40:23,842] Trial 7 finished with value: 0.7735931771082417 and parameters: {'n_estimators': 124, 'max_depth': 10}. Best is trial 6 with value: 0.780121154152718.\n",
      "[I 2025-04-29 22:40:25,019] Trial 8 finished with value: 0.7736091184441256 and parameters: {'n_estimators': 195, 'max_depth': 15}. Best is trial 6 with value: 0.780121154152718.\n",
      "[I 2025-04-29 22:40:25,990] Trial 9 finished with value: 0.7752191933684043 and parameters: {'n_estimators': 161, 'max_depth': 15}. Best is trial 6 with value: 0.780121154152718.\n",
      "[I 2025-04-29 22:40:26,421] Trial 10 finished with value: 0.7785110792284393 and parameters: {'n_estimators': 66, 'max_depth': 12}. Best is trial 6 with value: 0.780121154152718.\n",
      "[I 2025-04-29 22:40:26,818] Trial 11 finished with value: 0.7768770923003347 and parameters: {'n_estimators': 60, 'max_depth': 12}. Best is trial 6 with value: 0.780121154152718.\n",
      "[I 2025-04-29 22:40:27,324] Trial 12 finished with value: 0.7703570859238004 and parameters: {'n_estimators': 79, 'max_depth': 13}. Best is trial 6 with value: 0.780121154152718.\n",
      "[I 2025-04-29 22:40:27,905] Trial 13 finished with value: 0.7752351347042882 and parameters: {'n_estimators': 90, 'max_depth': 13}. Best is trial 6 with value: 0.780121154152718.\n",
      "[I 2025-04-29 22:40:28,075] Trial 14 finished with value: 0.7573250438386737 and parameters: {'n_estimators': 24, 'max_depth': 10}. Best is trial 6 with value: 0.780121154152718.\n",
      "[I 2025-04-29 22:40:28,965] Trial 15 finished with value: 0.78012912482066 and parameters: {'n_estimators': 133, 'max_depth': 17}. Best is trial 15 with value: 0.78012912482066.\n",
      "[I 2025-04-29 22:40:29,812] Trial 16 finished with value: 0.7801370954886019 and parameters: {'n_estimators': 132, 'max_depth': 17}. Best is trial 16 with value: 0.7801370954886019.\n",
      "[I 2025-04-29 22:40:30,680] Trial 17 finished with value: 0.7768691216323927 and parameters: {'n_estimators': 138, 'max_depth': 17}. Best is trial 16 with value: 0.7801370954886019.\n",
      "[I 2025-04-29 22:40:31,548] Trial 18 finished with value: 0.7736011477761836 and parameters: {'n_estimators': 142, 'max_depth': 17}. Best is trial 16 with value: 0.7801370954886019.\n",
      "[I 2025-04-29 22:40:32,178] Trial 19 finished with value: 0.7752271640363463 and parameters: {'n_estimators': 102, 'max_depth': 20}. Best is trial 16 with value: 0.7801370954886019.\n",
      "[I 2025-04-29 22:40:33,030] Trial 20 finished with value: 0.7768611509644509 and parameters: {'n_estimators': 137, 'max_depth': 18}. Best is trial 16 with value: 0.7801370954886019.\n",
      "[I 2025-04-29 22:40:33,763] Trial 21 finished with value: 0.7817471704128806 and parameters: {'n_estimators': 120, 'max_depth': 16}. Best is trial 21 with value: 0.7817471704128806.\n",
      "[I 2025-04-29 22:40:34,374] Trial 22 finished with value: 0.7784871672246134 and parameters: {'n_estimators': 99, 'max_depth': 16}. Best is trial 21 with value: 0.7817471704128806.\n",
      "[I 2025-04-29 22:40:35,127] Trial 23 finished with value: 0.7817551410808226 and parameters: {'n_estimators': 124, 'max_depth': 16}. Best is trial 23 with value: 0.7817551410808226.\n",
      "[I 2025-04-29 22:40:36,119] Trial 24 finished with value: 0.7801052128168341 and parameters: {'n_estimators': 152, 'max_depth': 14}. Best is trial 23 with value: 0.7817551410808226.\n",
      "[I 2025-04-29 22:40:37,188] Trial 25 finished with value: 0.7768452096285668 and parameters: {'n_estimators': 176, 'max_depth': 16}. Best is trial 23 with value: 0.7817551410808226.\n",
      "[I 2025-04-29 22:40:37,944] Trial 26 finished with value: 0.7736011477761836 and parameters: {'n_estimators': 122, 'max_depth': 18}. Best is trial 23 with value: 0.7817551410808226.\n",
      "[I 2025-04-29 22:40:38,513] Trial 27 finished with value: 0.7703491152558585 and parameters: {'n_estimators': 92, 'max_depth': 14}. Best is trial 23 with value: 0.7817551410808226.\n",
      "[I 2025-04-29 22:40:39,011] Trial 28 finished with value: 0.7703491152558585 and parameters: {'n_estimators': 80, 'max_depth': 16}. Best is trial 23 with value: 0.7817551410808226.\n",
      "[I 2025-04-29 22:40:39,943] Trial 29 finished with value: 0.7703331739199745 and parameters: {'n_estimators': 153, 'max_depth': 17}. Best is trial 23 with value: 0.7817551410808226.\n",
      "[I 2025-04-29 22:40:40,617] Trial 30 finished with value: 0.7768691216323927 and parameters: {'n_estimators': 109, 'max_depth': 19}. Best is trial 23 with value: 0.7817551410808226.\n",
      "[I 2025-04-29 22:40:41,398] Trial 31 finished with value: 0.7817551410808226 and parameters: {'n_estimators': 128, 'max_depth': 17}. Best is trial 23 with value: 0.7817551410808226.\n",
      "[I 2025-04-29 22:40:42,192] Trial 32 finished with value: 0.78012912482066 and parameters: {'n_estimators': 129, 'max_depth': 18}. Best is trial 23 with value: 0.7817551410808226.\n",
      "[I 2025-04-29 22:40:43,106] Trial 33 finished with value: 0.7768531802965088 and parameters: {'n_estimators': 147, 'max_depth': 15}. Best is trial 23 with value: 0.7817551410808226.\n",
      "[I 2025-04-29 22:40:44,124] Trial 34 finished with value: 0.7784791965566714 and parameters: {'n_estimators': 168, 'max_depth': 16}. Best is trial 23 with value: 0.7817551410808226.\n",
      "[I 2025-04-29 22:40:44,875] Trial 35 finished with value: 0.7784951378925554 and parameters: {'n_estimators': 115, 'max_depth': 17}. Best is trial 23 with value: 0.7817551410808226.\n",
      "[I 2025-04-29 22:40:45,589] Trial 36 finished with value: 0.7768611509644509 and parameters: {'n_estimators': 108, 'max_depth': 14}. Best is trial 23 with value: 0.7817551410808226.\n",
      "[I 2025-04-29 22:40:46,380] Trial 37 finished with value: 0.7784951378925554 and parameters: {'n_estimators': 124, 'max_depth': 19}. Best is trial 23 with value: 0.7817551410808226.\n",
      "[I 2025-04-29 22:40:47,533] Trial 38 finished with value: 0.7736011477761836 and parameters: {'n_estimators': 181, 'max_depth': 18}. Best is trial 23 with value: 0.7817551410808226.\n",
      "[I 2025-04-29 22:40:48,569] Trial 39 finished with value: 0.7703331739199745 and parameters: {'n_estimators': 159, 'max_depth': 19}. Best is trial 23 with value: 0.7817551410808226.\n",
      "[I 2025-04-29 22:40:49,488] Trial 40 finished with value: 0.7784871672246134 and parameters: {'n_estimators': 144, 'max_depth': 16}. Best is trial 23 with value: 0.7817551410808226.\n",
      "[I 2025-04-29 22:40:50,304] Trial 41 finished with value: 0.7817551410808226 and parameters: {'n_estimators': 128, 'max_depth': 17}. Best is trial 23 with value: 0.7817551410808226.\n",
      "[I 2025-04-29 22:40:51,102] Trial 42 finished with value: 0.78012912482066 and parameters: {'n_estimators': 130, 'max_depth': 17}. Best is trial 23 with value: 0.7817551410808226.\n",
      "[I 2025-04-29 22:40:51,849] Trial 43 finished with value: 0.7817471704128806 and parameters: {'n_estimators': 120, 'max_depth': 15}. Best is trial 23 with value: 0.7817551410808226.\n",
      "[I 2025-04-29 22:40:52,583] Trial 44 finished with value: 0.7752351347042882 and parameters: {'n_estimators': 117, 'max_depth': 15}. Best is trial 23 with value: 0.7817551410808226.\n",
      "[I 2025-04-29 22:40:53,194] Trial 45 finished with value: 0.7768691216323927 and parameters: {'n_estimators': 96, 'max_depth': 15}. Best is trial 23 with value: 0.7817551410808226.\n",
      "[I 2025-04-29 22:40:53,865] Trial 46 finished with value: 0.7752431053722302 and parameters: {'n_estimators': 109, 'max_depth': 14}. Best is trial 23 with value: 0.7817551410808226.\n",
      "[I 2025-04-29 22:40:54,393] Trial 47 finished with value: 0.7752431053722302 and parameters: {'n_estimators': 84, 'max_depth': 16}. Best is trial 23 with value: 0.7817551410808226.\n",
      "[I 2025-04-29 22:40:55,149] Trial 48 finished with value: 0.7817471704128806 and parameters: {'n_estimators': 123, 'max_depth': 16}. Best is trial 23 with value: 0.7817551410808226.\n",
      "[I 2025-04-29 22:40:55,854] Trial 49 finished with value: 0.7752351347042882 and parameters: {'n_estimators': 115, 'max_depth': 15}. Best is trial 23 with value: 0.7817551410808226.\n"
     ]
    }
   ],
   "source": [
    "study = optuna.create_study(direction='maximize', sampler=optuna.samplers.TPESampler())\n",
    "study.optimize(objective, n_trials=50)"
   ]
  },
  {
   "cell_type": "code",
   "execution_count": 53,
   "id": "9532e2d4-dbc5-4da4-ba3a-4daaf5a707f8",
   "metadata": {},
   "outputs": [
    {
     "name": "stdout",
     "output_type": "stream",
     "text": [
      "[0.7817551410808226]\n",
      "{'n_estimators': 124, 'max_depth': 16}\n"
     ]
    }
   ],
   "source": [
    "print(study.best_trial.values)\n",
    "print(study.best_params)"
   ]
  },
  {
   "cell_type": "code",
   "execution_count": 55,
   "id": "6c4b043f-e038-40a0-a594-da07d3e8500f",
   "metadata": {},
   "outputs": [
    {
     "name": "stdout",
     "output_type": "stream",
     "text": [
      "Test Accuracy with best hyperparameters: 0.75\n"
     ]
    }
   ],
   "source": [
    "from sklearn.metrics import accuracy_score\n",
    "\n",
    "best_model = RandomForestClassifier(**study.best_trial.params, random_state=42)\n",
    "\n",
    "best_model.fit(x_train, y_train)\n",
    "\n",
    "y_pred = best_model.predict(x_test)\n",
    "\n",
    "test_accuracy = accuracy_score(y_test, y_pred)\n",
    "\n",
    "print(f'Test Accuracy with best hyperparameters: {test_accuracy:.2f}')"
   ]
  },
  {
   "cell_type": "code",
   "execution_count": null,
   "id": "8f917b80-73e5-43c5-bcda-097bc0da463a",
   "metadata": {},
   "outputs": [],
   "source": []
  }
 ],
 "metadata": {
  "kernelspec": {
   "display_name": "Python 3 (ipykernel)",
   "language": "python",
   "name": "python3"
  },
  "language_info": {
   "codemirror_mode": {
    "name": "ipython",
    "version": 3
   },
   "file_extension": ".py",
   "mimetype": "text/x-python",
   "name": "python",
   "nbconvert_exporter": "python",
   "pygments_lexer": "ipython3",
   "version": "3.12.3"
  }
 },
 "nbformat": 4,
 "nbformat_minor": 5
}
