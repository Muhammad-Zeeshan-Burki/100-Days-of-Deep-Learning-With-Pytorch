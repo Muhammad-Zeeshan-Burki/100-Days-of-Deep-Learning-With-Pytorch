{
 "cells": [
  {
   "cell_type": "code",
   "execution_count": 2,
   "id": "a8e2fe08-333f-4780-bf95-074ae05d44c8",
   "metadata": {},
   "outputs": [],
   "source": [
    "import torch "
   ]
  },
  {
   "cell_type": "code",
   "execution_count": 3,
   "id": "aad1dbae-610b-4342-9852-02a5149c5797",
   "metadata": {},
   "outputs": [],
   "source": [
    "a = torch.eye(3,3)"
   ]
  },
  {
   "cell_type": "code",
   "execution_count": 4,
   "id": "025f7860-9e8d-4a2c-bd4b-733a5e1db402",
   "metadata": {},
   "outputs": [
    {
     "data": {
      "text/plain": [
       "tensor([[1., 0., 0.],\n",
       "        [0., 1., 0.],\n",
       "        [0., 0., 1.]])"
      ]
     },
     "execution_count": 4,
     "metadata": {},
     "output_type": "execute_result"
    }
   ],
   "source": [
    "a"
   ]
  },
  {
   "cell_type": "code",
   "execution_count": 5,
   "id": "895f3e8d-7b08-4c33-863a-112c1e25f1e3",
   "metadata": {},
   "outputs": [
    {
     "data": {
      "text/plain": [
       "torch.Tensor"
      ]
     },
     "execution_count": 5,
     "metadata": {},
     "output_type": "execute_result"
    }
   ],
   "source": [
    "type(a)"
   ]
  },
  {
   "cell_type": "code",
   "execution_count": 6,
   "id": "839ea456-5e15-44a7-bfe8-5faa38b8b3f4",
   "metadata": {},
   "outputs": [],
   "source": [
    "b  = torch.tensor([2. , 2 , 2])"
   ]
  },
  {
   "cell_type": "code",
   "execution_count": 7,
   "id": "f2aa3897-fe11-4a77-8860-6ce7bf085044",
   "metadata": {},
   "outputs": [
    {
     "data": {
      "text/plain": [
       "tensor([2., 2., 2.])"
      ]
     },
     "execution_count": 7,
     "metadata": {},
     "output_type": "execute_result"
    }
   ],
   "source": [
    "b"
   ]
  },
  {
   "cell_type": "code",
   "execution_count": 8,
   "id": "174ad9ae-df50-4c51-996f-64a9dbc7542c",
   "metadata": {},
   "outputs": [],
   "source": [
    "c = a*b"
   ]
  },
  {
   "cell_type": "code",
   "execution_count": 9,
   "id": "fe5ad114-4d60-4512-a123-061685ff098b",
   "metadata": {},
   "outputs": [
    {
     "data": {
      "text/plain": [
       "tensor([[2., 0., 0.],\n",
       "        [0., 2., 0.],\n",
       "        [0., 0., 2.]])"
      ]
     },
     "execution_count": 9,
     "metadata": {},
     "output_type": "execute_result"
    }
   ],
   "source": [
    "c"
   ]
  },
  {
   "cell_type": "code",
   "execution_count": 10,
   "id": "f3d5b773-39fc-4cd6-9168-a01972b377a7",
   "metadata": {},
   "outputs": [],
   "source": [
    "def sqare(x):\n",
    "    return x**2"
   ]
  },
  {
   "cell_type": "code",
   "execution_count": 11,
   "id": "a92f807c-3e70-4a0c-95e2-77c3ba005509",
   "metadata": {},
   "outputs": [
    {
     "data": {
      "text/plain": [
       "9"
      ]
     },
     "execution_count": 11,
     "metadata": {},
     "output_type": "execute_result"
    }
   ],
   "source": [
    "sqare(3)"
   ]
  },
  {
   "cell_type": "code",
   "execution_count": 26,
   "id": "3838e2cc-aa9b-4db5-bfe4-bc125c444926",
   "metadata": {},
   "outputs": [],
   "source": [
    "x = torch.tensor(3.0 , requires_grad=True)"
   ]
  },
  {
   "cell_type": "code",
   "execution_count": 28,
   "id": "5f72d056-9c87-4ac0-ad02-0f78598d6c04",
   "metadata": {},
   "outputs": [
    {
     "data": {
      "text/plain": [
       "tensor(3., requires_grad=True)"
      ]
     },
     "execution_count": 28,
     "metadata": {},
     "output_type": "execute_result"
    }
   ],
   "source": [
    "x"
   ]
  },
  {
   "cell_type": "code",
   "execution_count": 30,
   "id": "c0b3637a-ddde-4d38-b6a8-53843b17b2fd",
   "metadata": {},
   "outputs": [],
   "source": [
    "y = x**2"
   ]
  },
  {
   "cell_type": "code",
   "execution_count": 36,
   "id": "8fedc8a6-f8bc-404e-9f25-d129b6fabb9f",
   "metadata": {},
   "outputs": [],
   "source": [
    "y.backward()"
   ]
  },
  {
   "cell_type": "code",
   "execution_count": 38,
   "id": "3f67c196-92ed-4a55-b329-8d9bd59ae7a7",
   "metadata": {},
   "outputs": [
    {
     "data": {
      "text/plain": [
       "tensor(6.)"
      ]
     },
     "execution_count": 38,
     "metadata": {},
     "output_type": "execute_result"
    }
   ],
   "source": [
    "x.grad"
   ]
  },
  {
   "cell_type": "code",
   "execution_count": 44,
   "id": "077c127a-8ba1-46aa-b192-431358e8b203",
   "metadata": {},
   "outputs": [
    {
     "data": {
      "text/plain": [
       "tensor(8.)"
      ]
     },
     "execution_count": 44,
     "metadata": {},
     "output_type": "execute_result"
    }
   ],
   "source": [
    "x1 = torch.tensor(4., requires_grad=True)\n",
    "y1 =  x1**2\n",
    "y1.backward()\n",
    "x1.grad"
   ]
  },
  {
   "cell_type": "code",
   "execution_count": 48,
   "id": "a43e92aa-2426-4d2e-9947-0676146703d5",
   "metadata": {},
   "outputs": [],
   "source": [
    "x2 = torch.zeros(2,2  , requires_grad=True)"
   ]
  },
  {
   "cell_type": "code",
   "execution_count": 52,
   "id": "af306143-3d19-4cb3-9052-0ae25cc54efd",
   "metadata": {},
   "outputs": [],
   "source": [
    "y3 = x**2"
   ]
  },
  {
   "cell_type": "code",
   "execution_count": 54,
   "id": "e0679a5d-4ace-40ba-b3c8-6d1027654253",
   "metadata": {},
   "outputs": [],
   "source": [
    "y3.backward()"
   ]
  },
  {
   "cell_type": "code",
   "execution_count": 60,
   "id": "db82880a-fe0e-4224-922a-fae4d42c9253",
   "metadata": {},
   "outputs": [],
   "source": [
    "import math"
   ]
  },
  {
   "cell_type": "code",
   "execution_count": 62,
   "id": "877af09a-d17d-4830-8be7-16e41a935c43",
   "metadata": {},
   "outputs": [],
   "source": [
    "def sq(x):\n",
    "    return 2*math.cos(x**2)"
   ]
  },
  {
   "cell_type": "code",
   "execution_count": 64,
   "id": "9240f8f7-1a73-40af-81b7-0c6da67a9095",
   "metadata": {},
   "outputs": [
    {
     "data": {
      "text/plain": [
       "-1.8222605237693539"
      ]
     },
     "execution_count": 64,
     "metadata": {},
     "output_type": "execute_result"
    }
   ],
   "source": [
    "sq(3)"
   ]
  },
  {
   "cell_type": "code",
   "execution_count": 72,
   "id": "ccc8d03b-9676-4663-9fd4-0181f13df5ea",
   "metadata": {},
   "outputs": [
    {
     "name": "stderr",
     "output_type": "stream",
     "text": [
      "C:\\Users\\Zeshan\\AppData\\Local\\Temp\\ipykernel_3840\\3006407464.py:6: UserWarning: The .grad attribute of a Tensor that is not a leaf Tensor is being accessed. Its .grad attribute won't be populated during autograd.backward(). If you indeed want the .grad field to be populated for a non-leaf Tensor, use .retain_grad() on the non-leaf Tensor. If you access the non-leaf Tensor by mistake, make sure you access the leaf Tensor instead. See github.com/pytorch/pytorch/pull/30531 for more informations. (Triggered internally at C:\\actions-runner\\_work\\pytorch\\pytorch\\builder\\windows\\pytorch\\build\\aten\\src\\ATen/core/TensorBody.h:494.)\n",
      "  (\"value of derivative of z wrt to y is \" , y.grad)\n"
     ]
    },
    {
     "data": {
      "text/plain": [
       "('value of derivative of z wrt to y is ', None)"
      ]
     },
     "execution_count": 72,
     "metadata": {},
     "output_type": "execute_result"
    }
   ],
   "source": [
    "x = torch.tensor(5.0 ,requires_grad=True)\n",
    "y= x**2\n",
    "z = torch.sin(y)\n",
    "z.backward()\n",
    "(\"value of derivative of y wrt to x is \" , x.grad)\n",
    "(\"value of derivative of z wrt to y is \" , y.grad)"
   ]
  },
  {
   "cell_type": "markdown",
   "id": "1e492edf-8040-482c-bd47-d065b0b67fad",
   "metadata": {},
   "source": [
    "----------------------------------------------"
   ]
  },
  {
   "cell_type": "code",
   "execution_count": 83,
   "id": "b3c0d186-bae8-4ee7-b69e-9b9e71d60a31",
   "metadata": {},
   "outputs": [
    {
     "name": "stdout",
     "output_type": "stream",
     "text": [
      "Gradient w.r.t w: tensor(3.5000)\n",
      "Gradient w.r.t b: tensor(1.0000)\n"
     ]
    }
   ],
   "source": [
    "x = torch.tensor(3.5)\n",
    "y = torch.tensor(0.0)\n",
    "w= torch.tensor(2.5 , requires_grad=True)\n",
    "b = torch.tensor(5.5 , requires_grad=True)\n",
    "def binary_cross_entropy_loss(prediction, target):\n",
    "    epsilon = 1e-8  # To prevent log(0)\n",
    "    prediction = torch.clamp(prediction, epsilon, 1 - epsilon)\n",
    "    return -(target * torch.log(prediction) + (1 - target) * torch.log(1 - prediction))\n",
    "# Forward pass\n",
    "z = w * x + b  # Weighted sum (linear part)\n",
    "y_pred = torch.sigmoid(z)  # Predicted probability\n",
    "\n",
    "# Compute binary cross-entropy loss\n",
    "loss = binary_cross_entropy_loss(y_pred, y)\n",
    "loss.backward()\n",
    "\n",
    "print(\"Gradient w.r.t w:\", w.grad)\n",
    "print(\"Gradient w.r.t b:\", b.grad)\n"
   ]
  },
  {
   "cell_type": "code",
   "execution_count": null,
   "id": "0dcb1489-e8cf-403f-88cd-8f6ec22dc9be",
   "metadata": {},
   "outputs": [],
   "source": []
  },
  {
   "cell_type": "code",
   "execution_count": 79,
   "id": "a61a1244-3ce1-4c3c-a20f-4302ebdbd1ef",
   "metadata": {},
   "outputs": [],
   "source": [
    "z = w*x1+b"
   ]
  },
  {
   "cell_type": "code",
   "execution_count": null,
   "id": "6e936cf4-ff96-408a-8b96-43ddd064d58e",
   "metadata": {},
   "outputs": [],
   "source": [
    "z"
   ]
  }
 ],
 "metadata": {
  "kernelspec": {
   "display_name": "Python 3 (ipykernel)",
   "language": "python",
   "name": "python3"
  },
  "language_info": {
   "codemirror_mode": {
    "name": "ipython",
    "version": 3
   },
   "file_extension": ".py",
   "mimetype": "text/x-python",
   "name": "python",
   "nbconvert_exporter": "python",
   "pygments_lexer": "ipython3",
   "version": "3.12.3"
  }
 },
 "nbformat": 4,
 "nbformat_minor": 5
}
