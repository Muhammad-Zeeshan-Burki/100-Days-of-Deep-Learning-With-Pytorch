{
 "cells": [
  {
   "cell_type": "raw",
   "id": "49c40455-28d9-4aa4-9274-233bbf2c47ed",
   "metadata": {},
   "source": [
    "Its in the same folder as my ipynb file , the format is \n",
    "Pet_Images/\n",
    "├── Cat/\n",
    "│   ├── 0.jpg\n",
    "│   ├── 1.jpg\n",
    "│   └── ...\n",
    "└── Dog/\n",
    "    ├── 0.jpg\n",
    "    ├── 1.jpg\n",
    "    └── ..."
   ]
  },
  {
   "cell_type": "code",
   "execution_count": 1,
   "id": "c47d3fde-65ac-4a85-b7e1-e6c746de73b3",
   "metadata": {},
   "outputs": [
    {
     "name": "stdout",
     "output_type": "stream",
     "text": [
      "Using device: cuda:0\n",
      "Classes: ['Cat', 'Dog']\n",
      "CatDogVGG16(\n",
      "  (features): Sequential(\n",
      "    (0): Conv2d(3, 64, kernel_size=(3, 3), stride=(1, 1), padding=(1, 1))\n",
      "    (1): ReLU(inplace=True)\n",
      "    (2): Conv2d(64, 64, kernel_size=(3, 3), stride=(1, 1), padding=(1, 1))\n",
      "    (3): ReLU(inplace=True)\n",
      "    (4): MaxPool2d(kernel_size=2, stride=2, padding=0, dilation=1, ceil_mode=False)\n",
      "    (5): Conv2d(64, 128, kernel_size=(3, 3), stride=(1, 1), padding=(1, 1))\n",
      "    (6): ReLU(inplace=True)\n",
      "    (7): Conv2d(128, 128, kernel_size=(3, 3), stride=(1, 1), padding=(1, 1))\n",
      "    (8): ReLU(inplace=True)\n",
      "    (9): MaxPool2d(kernel_size=2, stride=2, padding=0, dilation=1, ceil_mode=False)\n",
      "    (10): Conv2d(128, 256, kernel_size=(3, 3), stride=(1, 1), padding=(1, 1))\n",
      "    (11): ReLU(inplace=True)\n",
      "    (12): Conv2d(256, 256, kernel_size=(3, 3), stride=(1, 1), padding=(1, 1))\n",
      "    (13): ReLU(inplace=True)\n",
      "    (14): Conv2d(256, 256, kernel_size=(3, 3), stride=(1, 1), padding=(1, 1))\n",
      "    (15): ReLU(inplace=True)\n",
      "    (16): MaxPool2d(kernel_size=2, stride=2, padding=0, dilation=1, ceil_mode=False)\n",
      "    (17): Conv2d(256, 512, kernel_size=(3, 3), stride=(1, 1), padding=(1, 1))\n",
      "    (18): ReLU(inplace=True)\n",
      "    (19): Conv2d(512, 512, kernel_size=(3, 3), stride=(1, 1), padding=(1, 1))\n",
      "    (20): ReLU(inplace=True)\n",
      "    (21): Conv2d(512, 512, kernel_size=(3, 3), stride=(1, 1), padding=(1, 1))\n",
      "    (22): ReLU(inplace=True)\n",
      "    (23): MaxPool2d(kernel_size=2, stride=2, padding=0, dilation=1, ceil_mode=False)\n",
      "    (24): Conv2d(512, 512, kernel_size=(3, 3), stride=(1, 1), padding=(1, 1))\n",
      "    (25): ReLU(inplace=True)\n",
      "    (26): Conv2d(512, 512, kernel_size=(3, 3), stride=(1, 1), padding=(1, 1))\n",
      "    (27): ReLU(inplace=True)\n",
      "    (28): Conv2d(512, 512, kernel_size=(3, 3), stride=(1, 1), padding=(1, 1))\n",
      "    (29): ReLU(inplace=True)\n",
      "    (30): MaxPool2d(kernel_size=2, stride=2, padding=0, dilation=1, ceil_mode=False)\n",
      "  )\n",
      "  (classifier): Sequential(\n",
      "    (0): Flatten(start_dim=1, end_dim=-1)\n",
      "    (1): Linear(in_features=25088, out_features=512, bias=True)\n",
      "    (2): ReLU()\n",
      "    (3): Dropout(p=0.5, inplace=False)\n",
      "    (4): Linear(in_features=512, out_features=2, bias=True)\n",
      "  )\n",
      ")\n",
      "Epoch 1/10\n"
     ]
    },
    {
     "name": "stderr",
     "output_type": "stream",
     "text": [
      "Training: 100%|██████████████████████████████████████████████████████████████████████| 624/624 [02:55<00:00,  3.55it/s]\n",
      "Evaluating: 100%|████████████████████████████████████████████████████████████████████| 156/156 [00:53<00:00,  2.89it/s]\n"
     ]
    },
    {
     "name": "stdout",
     "output_type": "stream",
     "text": [
      "Train Loss: 0.1180, Train Acc: 0.9755\n",
      "Test Loss: 0.0870, Test Acc: 0.9768\n",
      "--------------------------------------------------\n",
      "Epoch 2/10\n"
     ]
    },
    {
     "name": "stderr",
     "output_type": "stream",
     "text": [
      "Training: 100%|██████████████████████████████████████████████████████████████████████| 624/624 [01:28<00:00,  7.02it/s]\n",
      "Evaluating: 100%|████████████████████████████████████████████████████████████████████| 156/156 [00:31<00:00,  5.01it/s]\n"
     ]
    },
    {
     "name": "stdout",
     "output_type": "stream",
     "text": [
      "Train Loss: 0.0334, Train Acc: 0.9911\n",
      "Test Loss: 0.1181, Test Acc: 0.9796\n",
      "--------------------------------------------------\n",
      "Epoch 3/10\n"
     ]
    },
    {
     "name": "stderr",
     "output_type": "stream",
     "text": [
      "Training: 100%|██████████████████████████████████████████████████████████████████████| 624/624 [01:28<00:00,  7.06it/s]\n",
      "Evaluating: 100%|████████████████████████████████████████████████████████████████████| 156/156 [00:30<00:00,  5.03it/s]\n"
     ]
    },
    {
     "name": "stdout",
     "output_type": "stream",
     "text": [
      "Train Loss: 0.0468, Train Acc: 0.9898\n",
      "Test Loss: 0.0608, Test Acc: 0.9840\n",
      "--------------------------------------------------\n",
      "Epoch 4/10\n"
     ]
    },
    {
     "name": "stderr",
     "output_type": "stream",
     "text": [
      "Training: 100%|██████████████████████████████████████████████████████████████████████| 624/624 [01:28<00:00,  7.03it/s]\n",
      "Evaluating: 100%|████████████████████████████████████████████████████████████████████| 156/156 [00:31<00:00,  5.02it/s]\n"
     ]
    },
    {
     "name": "stdout",
     "output_type": "stream",
     "text": [
      "Train Loss: 0.0233, Train Acc: 0.9941\n",
      "Test Loss: 0.1067, Test Acc: 0.9822\n",
      "--------------------------------------------------\n",
      "Epoch 5/10\n"
     ]
    },
    {
     "name": "stderr",
     "output_type": "stream",
     "text": [
      "Training: 100%|██████████████████████████████████████████████████████████████████████| 624/624 [01:28<00:00,  7.07it/s]\n",
      "Evaluating: 100%|████████████████████████████████████████████████████████████████████| 156/156 [00:31<00:00,  5.03it/s]\n"
     ]
    },
    {
     "name": "stdout",
     "output_type": "stream",
     "text": [
      "Train Loss: 0.0232, Train Acc: 0.9946\n",
      "Test Loss: 0.1371, Test Acc: 0.9828\n",
      "--------------------------------------------------\n",
      "Epoch 6/10\n"
     ]
    },
    {
     "name": "stderr",
     "output_type": "stream",
     "text": [
      "Training: 100%|██████████████████████████████████████████████████████████████████████| 624/624 [01:28<00:00,  7.05it/s]\n",
      "Evaluating: 100%|████████████████████████████████████████████████████████████████████| 156/156 [00:31<00:00,  5.01it/s]\n"
     ]
    },
    {
     "name": "stdout",
     "output_type": "stream",
     "text": [
      "Train Loss: 0.0360, Train Acc: 0.9943\n",
      "Test Loss: 0.2852, Test Acc: 0.9834\n",
      "--------------------------------------------------\n",
      "Epoch 7/10\n"
     ]
    },
    {
     "name": "stderr",
     "output_type": "stream",
     "text": [
      "Training: 100%|██████████████████████████████████████████████████████████████████████| 624/624 [01:29<00:00,  7.01it/s]\n",
      "Evaluating: 100%|████████████████████████████████████████████████████████████████████| 156/156 [00:31<00:00,  5.02it/s]\n"
     ]
    },
    {
     "name": "stdout",
     "output_type": "stream",
     "text": [
      "Train Loss: 0.0721, Train Acc: 0.9932\n",
      "Test Loss: 0.2172, Test Acc: 0.9828\n",
      "--------------------------------------------------\n",
      "Epoch 8/10\n"
     ]
    },
    {
     "name": "stderr",
     "output_type": "stream",
     "text": [
      "Training: 100%|██████████████████████████████████████████████████████████████████████| 624/624 [01:29<00:00,  7.01it/s]\n",
      "Evaluating: 100%|████████████████████████████████████████████████████████████████████| 156/156 [00:31<00:00,  5.02it/s]\n"
     ]
    },
    {
     "name": "stdout",
     "output_type": "stream",
     "text": [
      "Train Loss: 0.0299, Train Acc: 0.9955\n",
      "Test Loss: 0.1849, Test Acc: 0.9844\n",
      "--------------------------------------------------\n",
      "Epoch 9/10\n"
     ]
    },
    {
     "name": "stderr",
     "output_type": "stream",
     "text": [
      "Training: 100%|██████████████████████████████████████████████████████████████████████| 624/624 [01:28<00:00,  7.02it/s]\n",
      "Evaluating: 100%|████████████████████████████████████████████████████████████████████| 156/156 [00:31<00:00,  5.00it/s]\n"
     ]
    },
    {
     "name": "stdout",
     "output_type": "stream",
     "text": [
      "Train Loss: 0.0173, Train Acc: 0.9971\n",
      "Test Loss: 0.1391, Test Acc: 0.9862\n",
      "--------------------------------------------------\n",
      "Epoch 10/10\n"
     ]
    },
    {
     "name": "stderr",
     "output_type": "stream",
     "text": [
      "Training: 100%|██████████████████████████████████████████████████████████████████████| 624/624 [01:28<00:00,  7.03it/s]\n",
      "Evaluating: 100%|████████████████████████████████████████████████████████████████████| 156/156 [00:31<00:00,  5.03it/s]\n"
     ]
    },
    {
     "name": "stdout",
     "output_type": "stream",
     "text": [
      "Train Loss: 0.0100, Train Acc: 0.9979\n",
      "Test Loss: 0.1580, Test Acc: 0.9846\n",
      "--------------------------------------------------\n"
     ]
    },
    {
     "data": {
      "image/png": "[encoded data removed]",
      "text/plain": [
       "<Figure size 1200x400 with 2 Axes>"
      ]
     },
     "metadata": {},
     "output_type": "display_data"
    },
    {
     "name": "stdout",
     "output_type": "stream",
     "text": [
      "Model saved as vgg16_cat_dog_classifier.pth\n"
     ]
    }
   ],
   "source": [
    "import os\n",
    "import torch\n",
    "import torch.nn as nn\n",
    "import torch.optim as optim\n",
    "import torchvision.transforms as transforms\n",
    "import torchvision.models as models\n",
    "from torch.utils.data import DataLoader, Dataset\n",
    "from torchvision.datasets import ImageFolder\n",
    "from PIL import Image\n",
    "import matplotlib.pyplot as plt\n",
    "import numpy as np\n",
    "from tqdm import tqdm\n",
    "\n",
    "# Check if CUDA is available\n",
    "device = torch.device(\"cuda:0\" if torch.cuda.is_available() else \"cpu\")\n",
    "print(f\"Using device: {device}\")\n",
    "\n",
    "# Define transforms for data preprocessing and augmentation\n",
    "train_transform = transforms.Compose([\n",
    "    transforms.Resize((224, 224)),  # VGG16 requires 224x224 input\n",
    "    transforms.RandomHorizontalFlip(),\n",
    "    transforms.RandomRotation(10),\n",
    "    transforms.ToTensor(),\n",
    "    transforms.Normalize([0.485, 0.456, 0.406], [0.229, 0.224, 0.225])  # ImageNet stats\n",
    "])\n",
    "\n",
    "test_transform = transforms.Compose([\n",
    "    transforms.Resize((224, 224)),\n",
    "    transforms.ToTensor(),\n",
    "    transforms.Normalize([0.485, 0.456, 0.406], [0.229, 0.224, 0.225])\n",
    "])\n",
    "\n",
    "# Set paths\n",
    "data_dir = \"Pet_Images\"\n",
    "\n",
    "# Create datasets\n",
    "full_dataset = ImageFolder(root=data_dir, transform=train_transform)\n",
    "\n",
    "# Split dataset into train and test sets\n",
    "train_size = int(0.8 * len(full_dataset))\n",
    "test_size = len(full_dataset) - train_size\n",
    "train_dataset, test_dataset = torch.utils.data.random_split(full_dataset, [train_size, test_size])\n",
    "\n",
    "# Apply different transform to test dataset\n",
    "test_dataset.dataset.transform = test_transform\n",
    "\n",
    "# Create data loaders\n",
    "train_loader = DataLoader(train_dataset, batch_size=32, shuffle=True, num_workers=2)\n",
    "test_loader = DataLoader(test_dataset, batch_size=32, shuffle=False, num_workers=2)\n",
    "\n",
    "# Get class names\n",
    "class_names = full_dataset.classes\n",
    "print(f\"Classes: {class_names}\")\n",
    "\n",
    "# Display some sample images\n",
    "def show_samples(dataloader, num_samples=4):\n",
    "    images, labels = next(iter(dataloader))\n",
    "    plt.figure(figsize=(12, 6))\n",
    "    for i in range(num_samples):\n",
    "        plt.subplot(1, num_samples, i+1)\n",
    "        # Denormalize images\n",
    "        img = images[i].permute(1, 2, 0).cpu().numpy()\n",
    "        img = img * np.array([0.229, 0.224, 0.225]) + np.array([0.485, 0.456, 0.406])\n",
    "        img = np.clip(img, 0, 1)\n",
    "        plt.imshow(img)\n",
    "        plt.title(class_names[labels[i]])\n",
    "        plt.axis('off')\n",
    "    plt.show()\n",
    "\n",
    "# Uncomment to show sample images\n",
    "# show_samples(train_loader)\n",
    "\n",
    "# Define the VGG16 transfer learning model\n",
    "class CatDogVGG16(nn.Module):\n",
    "    def __init__(self):\n",
    "        super(CatDogVGG16, self).__init__()\n",
    "        \n",
    "        # Load pre-trained VGG16 model\n",
    "        vgg16 = models.vgg16(weights=models.VGG16_Weights.IMAGENET1K_V1)\n",
    "        \n",
    "        # Extract features portion (all convolutional layers)\n",
    "        self.features = vgg16.features\n",
    "        \n",
    "        # Freeze the feature layers\n",
    "        for param in self.features.parameters():\n",
    "            param.requires_grad = False\n",
    "        \n",
    "        # Define new classifier layers\n",
    "        self.classifier = nn.Sequential(\n",
    "            nn.Flatten(),\n",
    "            nn.Linear(512 * 7 * 7, 512),  # VGG16 outputs 512 feature maps of 7x7 size\n",
    "            nn.ReLU(),\n",
    "            nn.Dropout(0.5),\n",
    "            nn.Linear(512, 2)  # 2 classes: cat and dog\n",
    "        )\n",
    "        \n",
    "    def forward(self, x):\n",
    "        x = self.features(x)\n",
    "        x = self.classifier(x)\n",
    "        return x\n",
    "\n",
    "# Create the model and move it to GPU\n",
    "model = CatDogVGG16().to(device)\n",
    "print(model)\n",
    "\n",
    "# Define loss function and optimizer\n",
    "criterion = nn.CrossEntropyLoss()\n",
    "optimizer = optim.Adam(model.classifier.parameters(), lr=0.001)  # Only train the classifier\n",
    "\n",
    "# Training function\n",
    "def train(model, dataloader, criterion, optimizer, device):\n",
    "    model.train()\n",
    "    running_loss = 0.0\n",
    "    correct = 0\n",
    "    total = 0\n",
    "    \n",
    "    for inputs, labels in tqdm(dataloader, desc=\"Training\"):\n",
    "        inputs, labels = inputs.to(device), labels.to(device)\n",
    "        \n",
    "        # Zero the parameter gradients\n",
    "        optimizer.zero_grad()\n",
    "        \n",
    "        # Forward pass\n",
    "        outputs = model(inputs)\n",
    "        loss = criterion(outputs, labels)\n",
    "        \n",
    "        # Backward pass and optimize\n",
    "        loss.backward()\n",
    "        optimizer.step()\n",
    "        \n",
    "        # Statistics\n",
    "        running_loss += loss.item() * inputs.size(0)\n",
    "        _, predicted = torch.max(outputs, 1)\n",
    "        total += labels.size(0)\n",
    "        correct += (predicted == labels).sum().item()\n",
    "    \n",
    "    epoch_loss = running_loss / len(dataloader.dataset)\n",
    "    epoch_acc = correct / total\n",
    "    \n",
    "    return epoch_loss, epoch_acc\n",
    "\n",
    "# Evaluation function\n",
    "def evaluate(model, dataloader, criterion, device):\n",
    "    model.eval()\n",
    "    running_loss = 0.0\n",
    "    correct = 0\n",
    "    total = 0\n",
    "    \n",
    "    with torch.no_grad():\n",
    "        for inputs, labels in tqdm(dataloader, desc=\"Evaluating\"):\n",
    "            inputs, labels = inputs.to(device), labels.to(device)\n",
    "            \n",
    "            # Forward pass\n",
    "            outputs = model(inputs)\n",
    "            loss = criterion(outputs, labels)\n",
    "            \n",
    "            # Statistics\n",
    "            running_loss += loss.item() * inputs.size(0)\n",
    "            _, predicted = torch.max(outputs, 1)\n",
    "            total += labels.size(0)\n",
    "            correct += (predicted == labels).sum().item()\n",
    "    \n",
    "    epoch_loss = running_loss / len(dataloader.dataset)\n",
    "    epoch_acc = correct / total\n",
    "    \n",
    "    return epoch_loss, epoch_acc\n",
    "\n",
    "# Training loop\n",
    "num_epochs = 10\n",
    "train_losses = []\n",
    "train_accs = []\n",
    "test_losses = []\n",
    "test_accs = []\n",
    "\n",
    "for epoch in range(num_epochs):\n",
    "    print(f\"Epoch {epoch+1}/{num_epochs}\")\n",
    "    \n",
    "    # Train\n",
    "    train_loss, train_acc = train(model, train_loader, criterion, optimizer, device)\n",
    "    train_losses.append(train_loss)\n",
    "    train_accs.append(train_acc)\n",
    "    \n",
    "    # Evaluate\n",
    "    test_loss, test_acc = evaluate(model, test_loader, criterion, device)\n",
    "    test_losses.append(test_loss)\n",
    "    test_accs.append(test_acc)\n",
    "    \n",
    "    print(f\"Train Loss: {train_loss:.4f}, Train Acc: {train_acc:.4f}\")\n",
    "    print(f\"Test Loss: {test_loss:.4f}, Test Acc: {test_acc:.4f}\")\n",
    "    print(\"-\" * 50)\n",
    "\n",
    "# Plot training and validation loss\n",
    "plt.figure(figsize=(12, 4))\n",
    "plt.subplot(1, 2, 1)\n",
    "plt.plot(train_losses, label='Train Loss')\n",
    "plt.plot(test_losses, label='Validation Loss')\n",
    "plt.xlabel('Epoch')\n",
    "plt.ylabel('Loss')\n",
    "plt.legend()\n",
    "\n",
    "plt.subplot(1, 2, 2)\n",
    "plt.plot(train_accs, label='Train Accuracy')\n",
    "plt.plot(test_accs, label='Validation Accuracy')\n",
    "plt.xlabel('Epoch')\n",
    "plt.ylabel('Accuracy')\n",
    "plt.legend()\n",
    "plt.show()\n",
    "\n",
    "# Save the model\n",
    "torch.save(model.state_dict(), 'vgg16_cat_dog_classifier.pth')\n",
    "print(\"Model saved as vgg16_cat_dog_classifier.pth\")\n",
    "\n",
    "# Function to make predictions on new images\n",
    "def predict_image(image_path, model, transform):\n",
    "    model.eval()\n",
    "    image = Image.open(image_path).convert('RGB')\n",
    "    image = transform(image).unsqueeze(0).to(device)\n",
    "    \n",
    "    with torch.no_grad():\n",
    "        output = model(image)\n",
    "        _, predicted = torch.max(output, 1)\n",
    "        prob = torch.nn.functional.softmax(output, dim=1)[0][predicted.item()].item()\n",
    "        return class_names[predicted.item()], prob\n",
    "\n",
    "# Example of how to use the model for prediction\n",
    "# Uncomment to use\n",
    "# test_image_path = \"Pet_Images/Cat/0.jpg\"\n",
    "# prediction, confidence = predict_image(test_image_path, model, test_transform)\n",
    "# print(f\"Prediction: {prediction}, Confidence: {confidence:.2f}\")\n",
    "\n",
    "# Display an image with prediction\n",
    "def show_prediction(image_path, model, transform):\n",
    "    # Make prediction\n",
    "    prediction, confidence = predict_image(image_path, model, transform)\n",
    "    \n",
    "    # Load and display image\n",
    "    image = Image.open(image_path).convert('RGB')\n",
    "    plt.figure(figsize=(6, 6))\n",
    "    plt.imshow(image)\n",
    "    plt.title(f\"Prediction: {prediction} ({confidence:.2f})\")\n",
    "    plt.axis('off')\n",
    "    plt.show()\n",
    "\n",
    "# Uncomment to show prediction for a specific image\n",
    "# show_prediction(\"Pet_Images/Cat/0.jpg\", model, test_transform)\n",
    "# show_prediction(\"Pet_Images/Dog/0.jpg\", model, test_transform)\n",
    "\n",
    "# OPTIONAL: Fine-tune the model by unfreezing some layers\n",
    "def fine_tune_model():\n",
    "    # Unfreeze the last few layers of the VGG16 features\n",
    "    for param in model.features[-4:].parameters():\n",
    "        param.requires_grad = True\n",
    "    \n",
    "    # Use a smaller learning rate\n",
    "    fine_tune_optimizer = optim.Adam([\n",
    "        {'params': model.features[-4:].parameters(), 'lr': 0.0001},\n",
    "        {'params': model.classifier.parameters(), 'lr': 0.001}\n",
    "    ])\n",
    "    \n",
    "    # Fine-tune for a few more epochs\n",
    "    # (You would repeat the training loop here with the new optimizer)\n",
    "    print(\"Fine-tuning process would start here\")\n",
    "\n",
    "# Uncomment to run fine-tuning\n",
    "# fine_tune_model()"
   ]
  },
  {
   "cell_type": "code",
   "execution_count": null,
   "id": "e4fba6a5-edc7-4a5a-b09f-8f28e75a2de4",
   "metadata": {},
   "outputs": [],
   "source": []
  }
 ],
 "metadata": {
  "kernelspec": {
   "display_name": "Python 3 (ipykernel)",
   "language": "python",
   "name": "python3"
  },
  "language_info": {
   "codemirror_mode": {
    "name": "ipython",
    "version": 3
   },
   "file_extension": ".py",
   "mimetype": "text/x-python",
   "name": "python",
   "nbconvert_exporter": "python",
   "pygments_lexer": "ipython3",
   "version": "3.12.3"
  }
 },
 "nbformat": 4,
 "nbformat_minor": 5
}
